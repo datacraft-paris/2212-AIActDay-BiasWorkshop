{
 "cells": [
  {
   "cell_type": "code",
   "execution_count": null,
   "id": "dd68333f",
   "metadata": {
    "tags": []
   },
   "outputs": [],
   "source": [
    "# Import packages\n",
    "import numpy as np\n",
    "import pandas as pd"
   ]
  },
  {
   "cell_type": "code",
   "execution_count": null,
   "id": "88eb3f86",
   "metadata": {},
   "outputs": [],
   "source": [
    "# Load data, 2 years\n",
    "df1 = pd.read_csv(\"survey_results_public_2021.csv\")\n",
    "print(\"2021:\", df1.shape)\n",
    "\n",
    "df2 = pd.read_csv(\"survey_results_public_2022.csv\")\n",
    "print(\"2022:\", df2.shape)\n",
    "\n",
    "df = pd.concat([df1, df2], ignore_index=True)\n",
    "\n",
    "# remove salary outliers\n",
    "q1, q3 = df[\"ConvertedCompYearly\"].quantile([0.25, 0.75])\n",
    "df = df.loc[df.ConvertedCompYearly < q3 + 1.5 * (q3 - q1)]\n",
    "\n",
    "print(\"2021-2022:\", df.shape)\n",
    "\n",
    "df.head(3)"
   ]
  },
  {
   "cell_type": "code",
   "execution_count": null,
   "id": "293a35c9",
   "metadata": {},
   "outputs": [],
   "source": [
    "# Select columns \n",
    "keep_col = [#'ResponseId',\n",
    "\n",
    " 'LanguageHaveWorkedWith',\n",
    " 'ToolsTechHaveWorkedWith',\n",
    " #'MiscTechHaveWorkedWith',\n",
    " 'WebframeHaveWorkedWith',\n",
    " 'PlatformHaveWorkedWith',\n",
    " 'DatabaseHaveWorkedWith',\n",
    " #'NEWCollabToolsHaveWorkedWith',\n",
    "            \n",
    " #'NEWCollabToolsWantToWorkWith',\n",
    " #'DatabaseWantToWorkWith',\n",
    " #'WebframeWantToWorkWith',\n",
    " #'ToolsTechWantToWorkWith',\n",
    " #'PlatformWantToWorkWith',\n",
    " #'MiscTechWantToWorkWith',\n",
    " #'LanguageWantToWorkWith',\n",
    " \n",
    " 'Age',\n",
    " 'Accessibility',\n",
    " 'EdLevel',\n",
    " 'Employment',\n",
    " #'Ethnicity',\n",
    " 'Gender',\n",
    " 'MentalHealth',\n",
    "\n",
    " 'MainBranch',\n",
    " #'DevType',\n",
    " 'YearsCode',\n",
    " 'YearsCodePro',\n",
    "\n",
    " #'Currency',\n",
    " 'Country',\n",
    " 'ConvertedCompYearly',\n",
    " #'CompTotal',\n",
    " #'CompFreq',\n",
    " #'Sexuality',\n",
    " #'OrgSize'\n",
    "]"
   ]
  },
  {
   "cell_type": "code",
   "execution_count": null,
   "id": "38d97321",
   "metadata": {},
   "outputs": [],
   "source": [
    "# Clean data : drop columns, NaNs, Concat (& drop) HaveWorkedWith\n",
    "\n",
    "df = df[keep_col]\n",
    "print(df.shape)\n",
    "\n",
    "df = df.dropna(subset=[col for col in df.columns if not col.endswith(\"HaveWorkedWith\")])\n",
    "print(df.shape)\n",
    "\n",
    "df.head(3)"
   ]
  },
  {
   "cell_type": "code",
   "execution_count": null,
   "id": "a3b5b340",
   "metadata": {
    "jupyter": {
     "source_hidden": true
    },
    "tags": []
   },
   "outputs": [],
   "source": [
    "# Clean data : Reduce distincs responses\n",
    "\n",
    "def clean_gender(string):\n",
    "    if string.split(';')[0] == 'Man':\n",
    "        return 'Man'\n",
    "    elif 'Woman' in string:\n",
    "        return 'Woman'\n",
    "    else:\n",
    "        return 'NonBinary'\n",
    "    \n",
    "def clean_accessibility(string):\n",
    "    if 'None of the above' in string:\n",
    "        return 'No'\n",
    "    elif 'Prefer not to say' in string:\n",
    "        return 'No'\n",
    "    else:\n",
    "        return 'Yes'\n",
    "    \n",
    "def clean_mentalhealth(string):\n",
    "    if 'None of the above' in string:\n",
    "        return 'No'\n",
    "    elif 'Prefer not to say' in string:\n",
    "        return 'No'\n",
    "    else:\n",
    "        return 'Yes'\n",
    "    \n",
    "def clean_edlevel(string):\n",
    "    \"\"\"\n",
    "     {'Associate degree (A.A., A.S., etc.)',\n",
    "     'Bachelor’s degree (B.A., B.S., B.Eng., etc.)',\n",
    "     'Master’s degree (M.A., M.S., M.Eng., MBA, etc.)',\n",
    "     'Other doctoral degree (Ph.D., Ed.D., etc.)',\n",
    "     'Primary/elementary school',\n",
    "     'Professional degree (JD, MD, etc.)',\n",
    "     'Secondary school (e.g. American high school, German Realschule or Gymnasium, etc.)',\n",
    "     'Some college/university study without earning a degree',\n",
    "     'Something else'}\n",
    "     \"\"\"\n",
    "    if 'Associate degree (A.A., A.S., etc.)' in string:\n",
    "        return 'Undergraduate'\n",
    "    elif 'Bachelor’s degree (B.A., B.S., B.Eng., etc.)' in string:\n",
    "        return 'Undergraduate'\n",
    "    elif 'Master’s degree (M.A., M.S., M.Eng., MBA, etc.)' in string:\n",
    "        return 'Master'\n",
    "    elif 'Other doctoral degree (Ph.D., Ed.D., etc.)' in string:\n",
    "        return 'PhD'\n",
    "    elif 'Primary/elementary school' in string:\n",
    "        return 'NoHigherEd'\n",
    "    elif 'Secondary school (e.g. American high school, German Realschule or Gymnasium, etc.)' in string:\n",
    "        return 'NoHigherEd'\n",
    "    else:\n",
    "        return 'Other'\n",
    "\n",
    "    \n",
    "def clean_mainbranch(string):\n",
    "    \"\"\"\n",
    "    {'I am a developer by profession',\n",
    "     'I am a student who is learning to code',\n",
    "     'I am learning to code',\n",
    "     'I am not primarily a developer, but I write code sometimes as part of my work',\n",
    "     'I code primarily as a hobby',\n",
    "     'I used to be a developer by profession, but no longer am',\n",
    "     'None of these'}\n",
    "    \"\"\"\n",
    "    if 'I am a developer by profession' in string:\n",
    "        return 'Dev'\n",
    "    else:\n",
    "        return 'NotDev'\n",
    "\n",
    "    \n",
    "def clean_employ(string):\n",
    "    \"\"\"\n",
    "    {'Employed full-time',\n",
    "     'Employed part-time',\n",
    "     'Employed, full-time',\n",
    "     'Employed, full-time;Employed, part-time',\n",
    "     'Employed, full-time;Independent contractor, freelancer, or self-employed',\n",
    "     'Employed, full-time;Independent contractor, freelancer, or self-employed;Employed, part-time',\n",
    "     'Employed, full-time;Independent contractor, freelancer, or self-employed;Retired',\n",
    "     'Employed, full-time;Retired',\n",
    "     'Employed, part-time',\n",
    "     'Employed, part-time;Retired',\n",
    "     'I prefer not to say',\n",
    "     'Independent contractor, freelancer, or self-employed',\n",
    "     'Independent contractor, freelancer, or self-employed;Employed, part-time',\n",
    "     'Independent contractor, freelancer, or self-employed;Retired',\n",
    "     'Retired'}\n",
    "    \"\"\"\n",
    "    if 'full-time' in string:\n",
    "        return 1\n",
    "    else:\n",
    "        return 0\n",
    "    \n",
    "age_mapping = {'35-44 years old': '>35', \n",
    "               '25-34 years old': '<35',\n",
    "               '55-64 years old': '>35', \n",
    "               '45-54 years old': '>35', \n",
    "               '65 years or older': '>35',\n",
    "               'Under 18 years old': '<35',\n",
    "               '18-24 years old': '<35'}"
   ]
  },
  {
   "cell_type": "code",
   "execution_count": null,
   "id": "b7654642-c644-4d00-9e15-a6ad417d3456",
   "metadata": {
    "tags": []
   },
   "outputs": [],
   "source": [
    "# Clean columns kept\n",
    "\n",
    "df = (df\n",
    "      .loc[lambda df_: df_['Age'] != 'Prefer not to say'] # Drop rows where age is not filled in and change category names\n",
    "      .rename(columns = {'ConvertedCompYearly': 'PreviousSalary'})\n",
    "      .assign(Gender = lambda df_: df_.Gender.apply(clean_gender),\n",
    "              Accessibility = lambda df_: df_.Accessibility.apply(clean_accessibility),\n",
    "              EdLevel = lambda df_: df_.EdLevel.apply(clean_edlevel),\n",
    "              MainBranch = lambda df_: df_.MainBranch.apply(clean_mainbranch),\n",
    "              Employment = lambda df_: df_.Employment.apply(clean_employ),\n",
    "              MentalHealth = lambda df_: df_.MentalHealth.apply(clean_mentalhealth),\n",
    "              Age = lambda df_: df_.Age.replace(age_mapping))\n",
    "      .reset_index(drop=True)\n",
    "     )\n",
    "\n",
    "print(df.shape)"
   ]
  },
  {
   "cell_type": "code",
   "execution_count": null,
   "id": "7309aee2-125e-452e-bf44-98a8062a8797",
   "metadata": {},
   "outputs": [],
   "source": [
    "# Clean YearsCode and YearsCodePro and make both integer column\n",
    "\n",
    "df = (df\n",
    "      .assign(YearsCode=lambda df_: df_.YearsCode.mask(df_.YearsCode == 'More than 50 years', '50'))\n",
    "      .assign(YearsCode=lambda df_: df_.YearsCode.mask(df_.YearsCode == 'Less than 1 year', '0'))\n",
    "      .assign(YearsCodePro=lambda df_: df_.YearsCodePro.mask(df_.YearsCodePro == 'More than 50 years', '50'))\n",
    "      .assign(YearsCodePro=lambda df_: df_.YearsCodePro.mask(df_.YearsCodePro == 'Less than 1 year', '0'))\n",
    "      .astype({'YearsCode': int, 'YearsCodePro': int})\n",
    "     )\n",
    "\n",
    "print(df.shape)"
   ]
  },
  {
   "cell_type": "code",
   "execution_count": null,
   "id": "9906ee43",
   "metadata": {},
   "outputs": [],
   "source": [
    "# clean HaveWorkedWith\n",
    "\n",
    "cols = [col for col in df.columns if col.endswith(\"HaveWorkedWith\")]\n",
    "\n",
    "df = (df\n",
    "      .assign(HaveWorkedWith=lambda df_: df_[cols].apply(lambda row: ';'.join(row.values.astype(str)), axis=1))\n",
    "      .assign(HaveWorkedWith=lambda df_: df_.HaveWorkedWith.str.replace(';nan', ''))\n",
    "      .assign(HaveWorkedWith=lambda df_: df_.HaveWorkedWith.str.replace('nan;', ''))\n",
    "      .assign(HaveWorkedWith=lambda df_: df_.HaveWorkedWith.str.replace('nan', ''))\n",
    "      .drop(columns=cols)\n",
    "     )\n",
    "              \n",
    "print(df.shape)"
   ]
  },
  {
   "cell_type": "code",
   "execution_count": null,
   "id": "13586772",
   "metadata": {},
   "outputs": [],
   "source": [
    "# all skills\n",
    "skills = set()\n",
    "df[\"HaveWorkedWith\"].str.split(\";\").apply(skills.update)\n",
    "print(*sorted(skills))\n",
    "df['ComputerSkills'] = df[\"HaveWorkedWith\"].apply(lambda x: 0 if x== \"\" else x.count(\";\") + 1)\n",
    "df.head(3)"
   ]
  },
  {
   "cell_type": "code",
   "execution_count": null,
   "id": "abc9a493",
   "metadata": {},
   "outputs": [],
   "source": [
    "# skilled mostly mentioned by Age == <35 and MentalHealth == No\n",
    "df_skills = df['HaveWorkedWith'].str.get_dummies(\";\")\n",
    "selected_skills_men = set(df_skills.loc[(df[\"Age\"] == \"<35\") & (df[\"Gender\"] == \"Man\")].sum().nlargest(20).index)\n",
    "print(\"men skills:\", *selected_skills_men, end=\"\\n\\n\")\n",
    "selected_skills_women = set(df_skills.loc[(df[\"Age\"] == \"<35\") & (df[\"Gender\"].isin([\"Woman\", \"NonBinary\"]))].sum().nlargest(10).index)\n",
    "print(\"women skills:\", *selected_skills_women, end=\"\\n\\n\")\n",
    "# Select skills present in the top 20 of men but not in the top 10 of women/nonbinary\n",
    "selected_skills = selected_skills_men.difference(selected_skills_women)\n",
    "print(\"selected skills:\", *selected_skills, end=\"\\n\\n\")"
   ]
  },
  {
   "cell_type": "code",
   "execution_count": null,
   "id": "98a803f5",
   "metadata": {},
   "outputs": [],
   "source": [
    "# Create a custom Employed target variable, using the total number of selected skills\n",
    "print(df['Employment'].describe())\n",
    "\n",
    "df = (df\n",
    "      .assign(Employed = df_skills[list(selected_skills)].sum(axis=1))\n",
    "      .assign(Employed = lambda df_: (df_['Employed'] >= 3).astype(int))\n",
    "     )\n",
    "\n",
    "df.head(3)"
   ]
  },
  {
   "cell_type": "code",
   "execution_count": null,
   "id": "3ebc808b",
   "metadata": {},
   "outputs": [],
   "source": [
    "df['Employed'].value_counts()"
   ]
  },
  {
   "cell_type": "code",
   "execution_count": null,
   "id": "c65d8b3b-1b34-4d19-9f24-b11d76f22fb3",
   "metadata": {},
   "outputs": [],
   "source": [
    "df.sample(3).T"
   ]
  },
  {
   "cell_type": "code",
   "execution_count": null,
   "id": "bb3fdd30",
   "metadata": {},
   "outputs": [],
   "source": [
    "df[\"Country\"].value_counts()"
   ]
  },
  {
   "cell_type": "code",
   "execution_count": null,
   "id": "b3d4e27d-c731-4f51-b16e-935d941d120d",
   "metadata": {},
   "outputs": [],
   "source": [
    "# save full dataset\n",
    "df.to_csv('stackoverflow_full.csv')"
   ]
  },
  {
   "cell_type": "code",
   "execution_count": null,
   "id": "90e5b7cf",
   "metadata": {},
   "outputs": [],
   "source": [
    "# save partial dataset\n",
    "(df\n",
    " .drop(['Accessibility', 'Country', 'MentalHealth', 'HaveWorkedWith', 'Employment'], axis=1)\n",
    " .to_csv('stackoverflow.csv')\n",
    ")"
   ]
  },
  {
   "cell_type": "code",
   "execution_count": null,
   "id": "c786b2a3-cc67-4338-bc41-e0f34448585f",
   "metadata": {},
   "outputs": [],
   "source": []
  }
 ],
 "metadata": {
  "kernelspec": {
   "display_name": "Python 3 (ipykernel)",
   "language": "python",
   "name": "python3"
  },
  "language_info": {
   "codemirror_mode": {
    "name": "ipython",
    "version": 3
   },
   "file_extension": ".py",
   "mimetype": "text/x-python",
   "name": "python",
   "nbconvert_exporter": "python",
   "pygments_lexer": "ipython3",
   "version": "3.9.15"
  }
 },
 "nbformat": 4,
 "nbformat_minor": 5
}
