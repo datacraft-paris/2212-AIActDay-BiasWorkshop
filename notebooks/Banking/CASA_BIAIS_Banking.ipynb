{
 "cells": [
  {
   "cell_type": "markdown",
   "metadata": {},
   "source": [
    "# Dataset banking : Obtention ou non d'un credit\n",
    "- Dans cette exercice nous souhaitons equilibrer les chances à tous demandeurs d'un credit \n",
    "- Nous allons chercher le biais dans le dataset utilisé pour le training de notre IA \n",
    "- Nous allons l'étudier le traiter et fournir un dataset succeptible d'équilibrer les chance \n",
    "- Nous allons ensuite tester notre modéle et de l'évaluer"
   ]
  },
  {
   "cell_type": "markdown",
   "metadata": {},
   "source": [
    "Importation des librairies"
   ]
  },
  {
   "cell_type": "code",
   "execution_count": 67,
   "metadata": {},
   "outputs": [],
   "source": [
    "import pandas as pd\n",
    "import numpy as np\n",
    "import seaborn as sns\n",
    "import matplotlib.pyplot as plt\n",
    "from aif360.datasets import BinaryLabelDataset\n",
    "from aif360.metrics import BinaryLabelDatasetMetric\n",
    "from aif360.metrics import ClassificationMetric\n",
    "from aif360.algorithms.preprocessing import Reweighing\n",
    "from sklearn.preprocessing import StandardScaler\n",
    "from sklearn.linear_model import LogisticRegression\n",
    "from tqdm import tqdm"
   ]
  },
  {
   "cell_type": "markdown",
   "metadata": {},
   "source": [
    "# EDA"
   ]
  },
  {
   "cell_type": "markdown",
   "metadata": {},
   "source": [
    "- L'objectif de cette section c'est de comprendre le jeu de donnée mise à disposition\n",
    "- Visualiser le dataset\n",
    "- supprimer les na\n",
    "- lister les colonnes\n",
    "- etc."
   ]
  },
  {
   "cell_type": "code",
   "execution_count": 103,
   "metadata": {},
   "outputs": [
    {
     "name": "stdout",
     "output_type": "stream",
     "text": [
      "(45211, 11)\n",
      "['Unnamed: 0', 'age', 'job', 'education', 'marital', 'default', 'balance', 'housing', 'loan', 'previous', 'y']\n"
     ]
    }
   ],
   "source": [
    "df = pd.read_csv('/home/zied/Documents/bias/data/banking_data.csv', sep = ';')\n",
    "df = data.dropna()\n",
    "print(df.shape)\n",
    "print(list(df.columns))"
   ]
  },
  {
   "cell_type": "markdown",
   "metadata": {},
   "source": [
    "Chercher dans un premier temps les variables qui présentent un desequilibre dans ses valeurs"
   ]
  },
  {
   "cell_type": "code",
   "execution_count": null,
   "metadata": {},
   "outputs": [],
   "source": [
    "# todo"
   ]
  },
  {
   "cell_type": "markdown",
   "metadata": {},
   "source": [
    "- Nous allons nous foclaliser sur la variable \"marital\" :\n",
    "- Determiner les valeurs unique de cette variable\n",
    "- Faite un count sur ses valeurs unique afin de comprendre le désequilibre présent"
   ]
  },
  {
   "cell_type": "code",
   "execution_count": 104,
   "metadata": {},
   "outputs": [
    {
     "data": {
      "text/plain": [
       "array(['married', 'single'], dtype=object)"
      ]
     },
     "execution_count": 104,
     "metadata": {},
     "output_type": "execute_result"
    }
   ],
   "source": [
    "df['marital'].unique()"
   ]
  },
  {
   "cell_type": "code",
   "execution_count": 105,
   "metadata": {},
   "outputs": [
    {
     "data": {
      "text/plain": [
       "married    31596\n",
       "single     13615\n",
       "Name: marital, dtype: int64"
      ]
     },
     "execution_count": 105,
     "metadata": {},
     "output_type": "execute_result"
    }
   ],
   "source": [
    "df['marital'].value_counts()"
   ]
  },
  {
   "cell_type": "code",
   "execution_count": 106,
   "metadata": {},
   "outputs": [
    {
     "data": {
      "text/html": [
       "<div>\n",
       "<style scoped>\n",
       "    .dataframe tbody tr th:only-of-type {\n",
       "        vertical-align: middle;\n",
       "    }\n",
       "\n",
       "    .dataframe tbody tr th {\n",
       "        vertical-align: top;\n",
       "    }\n",
       "\n",
       "    .dataframe thead th {\n",
       "        text-align: right;\n",
       "    }\n",
       "</style>\n",
       "<table border=\"1\" class=\"dataframe\">\n",
       "  <thead>\n",
       "    <tr style=\"text-align: right;\">\n",
       "      <th></th>\n",
       "      <th>age</th>\n",
       "      <th>job</th>\n",
       "      <th>education</th>\n",
       "      <th>marital</th>\n",
       "      <th>default</th>\n",
       "      <th>balance</th>\n",
       "      <th>housing</th>\n",
       "      <th>loan</th>\n",
       "      <th>previous</th>\n",
       "      <th>y</th>\n",
       "    </tr>\n",
       "  </thead>\n",
       "  <tbody>\n",
       "    <tr>\n",
       "      <th>0</th>\n",
       "      <td>58</td>\n",
       "      <td>management</td>\n",
       "      <td>tertiary</td>\n",
       "      <td>married</td>\n",
       "      <td>no</td>\n",
       "      <td>2143</td>\n",
       "      <td>yes</td>\n",
       "      <td>no</td>\n",
       "      <td>0</td>\n",
       "      <td>0</td>\n",
       "    </tr>\n",
       "    <tr>\n",
       "      <th>1</th>\n",
       "      <td>44</td>\n",
       "      <td>technician</td>\n",
       "      <td>secondary</td>\n",
       "      <td>married</td>\n",
       "      <td>no</td>\n",
       "      <td>29</td>\n",
       "      <td>yes</td>\n",
       "      <td>no</td>\n",
       "      <td>0</td>\n",
       "      <td>0</td>\n",
       "    </tr>\n",
       "    <tr>\n",
       "      <th>2</th>\n",
       "      <td>33</td>\n",
       "      <td>entrepreneur</td>\n",
       "      <td>secondary</td>\n",
       "      <td>married</td>\n",
       "      <td>no</td>\n",
       "      <td>2</td>\n",
       "      <td>yes</td>\n",
       "      <td>yes</td>\n",
       "      <td>0</td>\n",
       "      <td>0</td>\n",
       "    </tr>\n",
       "    <tr>\n",
       "      <th>3</th>\n",
       "      <td>47</td>\n",
       "      <td>blue-collar</td>\n",
       "      <td>unknown</td>\n",
       "      <td>single</td>\n",
       "      <td>no</td>\n",
       "      <td>1506</td>\n",
       "      <td>yes</td>\n",
       "      <td>no</td>\n",
       "      <td>0</td>\n",
       "      <td>0</td>\n",
       "    </tr>\n",
       "    <tr>\n",
       "      <th>4</th>\n",
       "      <td>33</td>\n",
       "      <td>unknown</td>\n",
       "      <td>unknown</td>\n",
       "      <td>single</td>\n",
       "      <td>no</td>\n",
       "      <td>1</td>\n",
       "      <td>no</td>\n",
       "      <td>no</td>\n",
       "      <td>0</td>\n",
       "      <td>0</td>\n",
       "    </tr>\n",
       "    <tr>\n",
       "      <th>5</th>\n",
       "      <td>35</td>\n",
       "      <td>management</td>\n",
       "      <td>tertiary</td>\n",
       "      <td>married</td>\n",
       "      <td>no</td>\n",
       "      <td>231</td>\n",
       "      <td>yes</td>\n",
       "      <td>no</td>\n",
       "      <td>0</td>\n",
       "      <td>0</td>\n",
       "    </tr>\n",
       "    <tr>\n",
       "      <th>6</th>\n",
       "      <td>28</td>\n",
       "      <td>management</td>\n",
       "      <td>tertiary</td>\n",
       "      <td>married</td>\n",
       "      <td>no</td>\n",
       "      <td>447</td>\n",
       "      <td>yes</td>\n",
       "      <td>yes</td>\n",
       "      <td>0</td>\n",
       "      <td>0</td>\n",
       "    </tr>\n",
       "    <tr>\n",
       "      <th>7</th>\n",
       "      <td>42</td>\n",
       "      <td>entrepreneur</td>\n",
       "      <td>tertiary</td>\n",
       "      <td>single</td>\n",
       "      <td>yes</td>\n",
       "      <td>2</td>\n",
       "      <td>yes</td>\n",
       "      <td>no</td>\n",
       "      <td>0</td>\n",
       "      <td>0</td>\n",
       "    </tr>\n",
       "    <tr>\n",
       "      <th>8</th>\n",
       "      <td>58</td>\n",
       "      <td>retired</td>\n",
       "      <td>primary</td>\n",
       "      <td>single</td>\n",
       "      <td>no</td>\n",
       "      <td>121</td>\n",
       "      <td>yes</td>\n",
       "      <td>no</td>\n",
       "      <td>0</td>\n",
       "      <td>0</td>\n",
       "    </tr>\n",
       "    <tr>\n",
       "      <th>9</th>\n",
       "      <td>43</td>\n",
       "      <td>technician</td>\n",
       "      <td>secondary</td>\n",
       "      <td>married</td>\n",
       "      <td>no</td>\n",
       "      <td>593</td>\n",
       "      <td>yes</td>\n",
       "      <td>no</td>\n",
       "      <td>0</td>\n",
       "      <td>0</td>\n",
       "    </tr>\n",
       "  </tbody>\n",
       "</table>\n",
       "</div>"
      ],
      "text/plain": [
       "   age           job  education  marital default  balance housing loan  \\\n",
       "0   58    management   tertiary  married      no     2143     yes   no   \n",
       "1   44    technician  secondary  married      no       29     yes   no   \n",
       "2   33  entrepreneur  secondary  married      no        2     yes  yes   \n",
       "3   47   blue-collar    unknown   single      no     1506     yes   no   \n",
       "4   33       unknown    unknown   single      no        1      no   no   \n",
       "5   35    management   tertiary  married      no      231     yes   no   \n",
       "6   28    management   tertiary  married      no      447     yes  yes   \n",
       "7   42  entrepreneur   tertiary   single     yes        2     yes   no   \n",
       "8   58       retired    primary   single      no      121     yes   no   \n",
       "9   43    technician  secondary  married      no      593     yes   no   \n",
       "\n",
       "   previous  y  \n",
       "0         0  0  \n",
       "1         0  0  \n",
       "2         0  0  \n",
       "3         0  0  \n",
       "4         0  0  \n",
       "5         0  0  \n",
       "6         0  0  \n",
       "7         0  0  \n",
       "8         0  0  \n",
       "9         0  0  "
      ]
     },
     "execution_count": 106,
     "metadata": {},
     "output_type": "execute_result"
    }
   ],
   "source": [
    "del df['Unnamed: 0']\n",
    "df.head(10)"
   ]
  },
  {
   "cell_type": "markdown",
   "metadata": {},
   "source": [
    "EDA Biais"
   ]
  },
  {
   "cell_type": "markdown",
   "metadata": {},
   "source": [
    "Assurer vous que la colonne y est bien en valeurs binaires (1 pour \"yes\" et 0 pour no) "
   ]
  },
  {
   "cell_type": "code",
   "execution_count": 54,
   "metadata": {},
   "outputs": [],
   "source": [
    "# todo"
   ]
  },
  {
   "cell_type": "markdown",
   "metadata": {},
   "source": [
    "determiner la proportion des valeurs ( married et single) de la variable \"marital\" par rapport à la colonne cible"
   ]
  },
  {
   "cell_type": "code",
   "execution_count": 107,
   "metadata": {},
   "outputs": [
    {
     "name": "stdout",
     "output_type": "stream",
     "text": [
      "             y\n",
      "marital       \n",
      "married  0.060\n",
      "single   0.151\n"
     ]
    }
   ],
   "source": [
    "agg_marital = df[['marital', 'y']].groupby('marital').mean()\n",
    "print(agg_marital.round(3))"
   ]
  },
  {
   "cell_type": "markdown",
   "metadata": {},
   "source": [
    "- Tracer les proportions par un barplot\n",
    "- Sur le meme graphique tracer une ligne en pointillée qui correspond à la moyenne d'acceptation du credit"
   ]
  },
  {
   "cell_type": "code",
   "execution_count": 108,
   "metadata": {},
   "outputs": [
    {
     "data": {
      "image/png": "[encoded data removed]",
      "text/plain": [
       "<Figure size 720x504 with 1 Axes>"
      ]
     },
     "metadata": {
      "needs_background": "light"
     },
     "output_type": "display_data"
    }
   ],
   "source": [
    "mean_get_loan = df['y'].mean()\n",
    "\n",
    "fig, ax1 = plt.subplots(figsize=(10, 7))\n",
    "sns.barplot(x=agg_marital.index, y=agg_marital.y, ax=ax1).\\\n",
    "set_title('Proportion de la population qui a obtenu un credit', fontsize=16, fontweight='bold')\n",
    "ax1.axhline(mean_get_loan, color='k', linestyle=':')\n",
    "ax1.set(xlabel='', ylabel='')\n",
    "ax1.xaxis.set_tick_params(labelsize=14)\n",
    "ax1.yaxis.set_tick_params(labelsize=14)"
   ]
  },
  {
   "cell_type": "markdown",
   "metadata": {},
   "source": [
    "Quelle est la valeur de ce seuil"
   ]
  },
  {
   "cell_type": "code",
   "execution_count": 109,
   "metadata": {},
   "outputs": [
    {
     "name": "stdout",
     "output_type": "stream",
     "text": [
      "0.088\n"
     ]
    }
   ],
   "source": [
    "print(mean_get_loan.round(3))"
   ]
  },
  {
   "cell_type": "markdown",
   "metadata": {},
   "source": [
    "Expliquer briévement la signification de ce seuil"
   ]
  },
  {
   "cell_type": "markdown",
   "metadata": {},
   "source": [
    "==> Les celibataires ont une probabilité supérieure à la moyenne d'obtenir un credit, tandis que les marriés ont une probabilité inférieure à la moyenne d'obtenir un credit."
   ]
  },
  {
   "cell_type": "markdown",
   "metadata": {},
   "source": [
    "# Introduction de la librairie AIF360"
   ]
  },
  {
   "cell_type": "markdown",
   "metadata": {},
   "source": [
    "Conversion du dataset au format aif360: \n",
    "- Faite du OnhotEncoding sur les variables categorielle\n",
    "- job,education,default,housing,loan, marital"
   ]
  },
  {
   "cell_type": "code",
   "execution_count": 110,
   "metadata": {},
   "outputs": [
    {
     "data": {
      "text/html": [
       "<div>\n",
       "<style scoped>\n",
       "    .dataframe tbody tr th:only-of-type {\n",
       "        vertical-align: middle;\n",
       "    }\n",
       "\n",
       "    .dataframe tbody tr th {\n",
       "        vertical-align: top;\n",
       "    }\n",
       "\n",
       "    .dataframe thead th {\n",
       "        text-align: right;\n",
       "    }\n",
       "</style>\n",
       "<table border=\"1\" class=\"dataframe\">\n",
       "  <thead>\n",
       "    <tr style=\"text-align: right;\">\n",
       "      <th></th>\n",
       "      <th>age</th>\n",
       "      <th>job</th>\n",
       "      <th>education</th>\n",
       "      <th>marital</th>\n",
       "      <th>default</th>\n",
       "      <th>balance</th>\n",
       "      <th>housing</th>\n",
       "      <th>loan</th>\n",
       "      <th>previous</th>\n",
       "      <th>y</th>\n",
       "    </tr>\n",
       "  </thead>\n",
       "  <tbody>\n",
       "    <tr>\n",
       "      <th>0</th>\n",
       "      <td>58</td>\n",
       "      <td>management</td>\n",
       "      <td>tertiary</td>\n",
       "      <td>married</td>\n",
       "      <td>no</td>\n",
       "      <td>2143</td>\n",
       "      <td>yes</td>\n",
       "      <td>no</td>\n",
       "      <td>0</td>\n",
       "      <td>0</td>\n",
       "    </tr>\n",
       "    <tr>\n",
       "      <th>1</th>\n",
       "      <td>44</td>\n",
       "      <td>technician</td>\n",
       "      <td>secondary</td>\n",
       "      <td>married</td>\n",
       "      <td>no</td>\n",
       "      <td>29</td>\n",
       "      <td>yes</td>\n",
       "      <td>no</td>\n",
       "      <td>0</td>\n",
       "      <td>0</td>\n",
       "    </tr>\n",
       "    <tr>\n",
       "      <th>2</th>\n",
       "      <td>33</td>\n",
       "      <td>entrepreneur</td>\n",
       "      <td>secondary</td>\n",
       "      <td>married</td>\n",
       "      <td>no</td>\n",
       "      <td>2</td>\n",
       "      <td>yes</td>\n",
       "      <td>yes</td>\n",
       "      <td>0</td>\n",
       "      <td>0</td>\n",
       "    </tr>\n",
       "    <tr>\n",
       "      <th>3</th>\n",
       "      <td>47</td>\n",
       "      <td>blue-collar</td>\n",
       "      <td>unknown</td>\n",
       "      <td>single</td>\n",
       "      <td>no</td>\n",
       "      <td>1506</td>\n",
       "      <td>yes</td>\n",
       "      <td>no</td>\n",
       "      <td>0</td>\n",
       "      <td>0</td>\n",
       "    </tr>\n",
       "    <tr>\n",
       "      <th>4</th>\n",
       "      <td>33</td>\n",
       "      <td>unknown</td>\n",
       "      <td>unknown</td>\n",
       "      <td>single</td>\n",
       "      <td>no</td>\n",
       "      <td>1</td>\n",
       "      <td>no</td>\n",
       "      <td>no</td>\n",
       "      <td>0</td>\n",
       "      <td>0</td>\n",
       "    </tr>\n",
       "    <tr>\n",
       "      <th>5</th>\n",
       "      <td>35</td>\n",
       "      <td>management</td>\n",
       "      <td>tertiary</td>\n",
       "      <td>married</td>\n",
       "      <td>no</td>\n",
       "      <td>231</td>\n",
       "      <td>yes</td>\n",
       "      <td>no</td>\n",
       "      <td>0</td>\n",
       "      <td>0</td>\n",
       "    </tr>\n",
       "    <tr>\n",
       "      <th>6</th>\n",
       "      <td>28</td>\n",
       "      <td>management</td>\n",
       "      <td>tertiary</td>\n",
       "      <td>married</td>\n",
       "      <td>no</td>\n",
       "      <td>447</td>\n",
       "      <td>yes</td>\n",
       "      <td>yes</td>\n",
       "      <td>0</td>\n",
       "      <td>0</td>\n",
       "    </tr>\n",
       "    <tr>\n",
       "      <th>7</th>\n",
       "      <td>42</td>\n",
       "      <td>entrepreneur</td>\n",
       "      <td>tertiary</td>\n",
       "      <td>single</td>\n",
       "      <td>yes</td>\n",
       "      <td>2</td>\n",
       "      <td>yes</td>\n",
       "      <td>no</td>\n",
       "      <td>0</td>\n",
       "      <td>0</td>\n",
       "    </tr>\n",
       "    <tr>\n",
       "      <th>8</th>\n",
       "      <td>58</td>\n",
       "      <td>retired</td>\n",
       "      <td>primary</td>\n",
       "      <td>single</td>\n",
       "      <td>no</td>\n",
       "      <td>121</td>\n",
       "      <td>yes</td>\n",
       "      <td>no</td>\n",
       "      <td>0</td>\n",
       "      <td>0</td>\n",
       "    </tr>\n",
       "    <tr>\n",
       "      <th>9</th>\n",
       "      <td>43</td>\n",
       "      <td>technician</td>\n",
       "      <td>secondary</td>\n",
       "      <td>married</td>\n",
       "      <td>no</td>\n",
       "      <td>593</td>\n",
       "      <td>yes</td>\n",
       "      <td>no</td>\n",
       "      <td>0</td>\n",
       "      <td>0</td>\n",
       "    </tr>\n",
       "  </tbody>\n",
       "</table>\n",
       "</div>"
      ],
      "text/plain": [
       "   age           job  education  marital default  balance housing loan  \\\n",
       "0   58    management   tertiary  married      no     2143     yes   no   \n",
       "1   44    technician  secondary  married      no       29     yes   no   \n",
       "2   33  entrepreneur  secondary  married      no        2     yes  yes   \n",
       "3   47   blue-collar    unknown   single      no     1506     yes   no   \n",
       "4   33       unknown    unknown   single      no        1      no   no   \n",
       "5   35    management   tertiary  married      no      231     yes   no   \n",
       "6   28    management   tertiary  married      no      447     yes  yes   \n",
       "7   42  entrepreneur   tertiary   single     yes        2     yes   no   \n",
       "8   58       retired    primary   single      no      121     yes   no   \n",
       "9   43    technician  secondary  married      no      593     yes   no   \n",
       "\n",
       "   previous  y  \n",
       "0         0  0  \n",
       "1         0  0  \n",
       "2         0  0  \n",
       "3         0  0  \n",
       "4         0  0  \n",
       "5         0  0  \n",
       "6         0  0  \n",
       "7         0  0  \n",
       "8         0  0  \n",
       "9         0  0  "
      ]
     },
     "execution_count": 110,
     "metadata": {},
     "output_type": "execute_result"
    }
   ],
   "source": [
    "df.head(10)"
   ]
  },
  {
   "cell_type": "code",
   "execution_count": 111,
   "metadata": {},
   "outputs": [],
   "source": [
    "var_numerique = [\"age\",\"balance\",\"previous\", \"y\"]\n",
    "var_categorielle = [\"job\",\"education\",\"default\",\"housing\",\"loan\", \"marital\"]"
   ]
  },
  {
   "cell_type": "code",
   "execution_count": 112,
   "metadata": {},
   "outputs": [],
   "source": [
    "\n",
    "df_onehot = pd.concat([df[var_numerique], pd.get_dummies(df[var_categorielle])], axis=1)\n"
   ]
  },
  {
   "cell_type": "code",
   "execution_count": 113,
   "metadata": {},
   "outputs": [
    {
     "data": {
      "text/html": [
       "<div>\n",
       "<style scoped>\n",
       "    .dataframe tbody tr th:only-of-type {\n",
       "        vertical-align: middle;\n",
       "    }\n",
       "\n",
       "    .dataframe tbody tr th {\n",
       "        vertical-align: top;\n",
       "    }\n",
       "\n",
       "    .dataframe thead th {\n",
       "        text-align: right;\n",
       "    }\n",
       "</style>\n",
       "<table border=\"1\" class=\"dataframe\">\n",
       "  <thead>\n",
       "    <tr style=\"text-align: right;\">\n",
       "      <th></th>\n",
       "      <th>age</th>\n",
       "      <th>balance</th>\n",
       "      <th>previous</th>\n",
       "      <th>y</th>\n",
       "      <th>job_admin.</th>\n",
       "      <th>job_blue-collar</th>\n",
       "      <th>job_entrepreneur</th>\n",
       "      <th>job_housemaid</th>\n",
       "      <th>job_management</th>\n",
       "      <th>job_retired</th>\n",
       "      <th>...</th>\n",
       "      <th>education_tertiary</th>\n",
       "      <th>education_unknown</th>\n",
       "      <th>default_no</th>\n",
       "      <th>default_yes</th>\n",
       "      <th>housing_no</th>\n",
       "      <th>housing_yes</th>\n",
       "      <th>loan_no</th>\n",
       "      <th>loan_yes</th>\n",
       "      <th>marital_married</th>\n",
       "      <th>marital_single</th>\n",
       "    </tr>\n",
       "  </thead>\n",
       "  <tbody>\n",
       "    <tr>\n",
       "      <th>0</th>\n",
       "      <td>58</td>\n",
       "      <td>2143</td>\n",
       "      <td>0</td>\n",
       "      <td>0</td>\n",
       "      <td>0</td>\n",
       "      <td>0</td>\n",
       "      <td>0</td>\n",
       "      <td>0</td>\n",
       "      <td>1</td>\n",
       "      <td>0</td>\n",
       "      <td>...</td>\n",
       "      <td>1</td>\n",
       "      <td>0</td>\n",
       "      <td>1</td>\n",
       "      <td>0</td>\n",
       "      <td>0</td>\n",
       "      <td>1</td>\n",
       "      <td>1</td>\n",
       "      <td>0</td>\n",
       "      <td>1</td>\n",
       "      <td>0</td>\n",
       "    </tr>\n",
       "    <tr>\n",
       "      <th>1</th>\n",
       "      <td>44</td>\n",
       "      <td>29</td>\n",
       "      <td>0</td>\n",
       "      <td>0</td>\n",
       "      <td>0</td>\n",
       "      <td>0</td>\n",
       "      <td>0</td>\n",
       "      <td>0</td>\n",
       "      <td>0</td>\n",
       "      <td>0</td>\n",
       "      <td>...</td>\n",
       "      <td>0</td>\n",
       "      <td>0</td>\n",
       "      <td>1</td>\n",
       "      <td>0</td>\n",
       "      <td>0</td>\n",
       "      <td>1</td>\n",
       "      <td>1</td>\n",
       "      <td>0</td>\n",
       "      <td>1</td>\n",
       "      <td>0</td>\n",
       "    </tr>\n",
       "    <tr>\n",
       "      <th>2</th>\n",
       "      <td>33</td>\n",
       "      <td>2</td>\n",
       "      <td>0</td>\n",
       "      <td>0</td>\n",
       "      <td>0</td>\n",
       "      <td>0</td>\n",
       "      <td>1</td>\n",
       "      <td>0</td>\n",
       "      <td>0</td>\n",
       "      <td>0</td>\n",
       "      <td>...</td>\n",
       "      <td>0</td>\n",
       "      <td>0</td>\n",
       "      <td>1</td>\n",
       "      <td>0</td>\n",
       "      <td>0</td>\n",
       "      <td>1</td>\n",
       "      <td>0</td>\n",
       "      <td>1</td>\n",
       "      <td>1</td>\n",
       "      <td>0</td>\n",
       "    </tr>\n",
       "    <tr>\n",
       "      <th>3</th>\n",
       "      <td>47</td>\n",
       "      <td>1506</td>\n",
       "      <td>0</td>\n",
       "      <td>0</td>\n",
       "      <td>0</td>\n",
       "      <td>1</td>\n",
       "      <td>0</td>\n",
       "      <td>0</td>\n",
       "      <td>0</td>\n",
       "      <td>0</td>\n",
       "      <td>...</td>\n",
       "      <td>0</td>\n",
       "      <td>1</td>\n",
       "      <td>1</td>\n",
       "      <td>0</td>\n",
       "      <td>0</td>\n",
       "      <td>1</td>\n",
       "      <td>1</td>\n",
       "      <td>0</td>\n",
       "      <td>0</td>\n",
       "      <td>1</td>\n",
       "    </tr>\n",
       "    <tr>\n",
       "      <th>4</th>\n",
       "      <td>33</td>\n",
       "      <td>1</td>\n",
       "      <td>0</td>\n",
       "      <td>0</td>\n",
       "      <td>0</td>\n",
       "      <td>0</td>\n",
       "      <td>0</td>\n",
       "      <td>0</td>\n",
       "      <td>0</td>\n",
       "      <td>0</td>\n",
       "      <td>...</td>\n",
       "      <td>0</td>\n",
       "      <td>1</td>\n",
       "      <td>1</td>\n",
       "      <td>0</td>\n",
       "      <td>1</td>\n",
       "      <td>0</td>\n",
       "      <td>1</td>\n",
       "      <td>0</td>\n",
       "      <td>0</td>\n",
       "      <td>1</td>\n",
       "    </tr>\n",
       "  </tbody>\n",
       "</table>\n",
       "<p>5 rows × 28 columns</p>\n",
       "</div>"
      ],
      "text/plain": [
       "   age  balance  previous  y  job_admin.  job_blue-collar  job_entrepreneur  \\\n",
       "0   58     2143         0  0           0                0                 0   \n",
       "1   44       29         0  0           0                0                 0   \n",
       "2   33        2         0  0           0                0                 1   \n",
       "3   47     1506         0  0           0                1                 0   \n",
       "4   33        1         0  0           0                0                 0   \n",
       "\n",
       "   job_housemaid  job_management  job_retired  ...  education_tertiary  \\\n",
       "0              0               1            0  ...                   1   \n",
       "1              0               0            0  ...                   0   \n",
       "2              0               0            0  ...                   0   \n",
       "3              0               0            0  ...                   0   \n",
       "4              0               0            0  ...                   0   \n",
       "\n",
       "   education_unknown  default_no  default_yes  housing_no  housing_yes  \\\n",
       "0                  0           1            0           0            1   \n",
       "1                  0           1            0           0            1   \n",
       "2                  0           1            0           0            1   \n",
       "3                  1           1            0           0            1   \n",
       "4                  1           1            0           1            0   \n",
       "\n",
       "   loan_no  loan_yes  marital_married  marital_single  \n",
       "0        1         0                1               0  \n",
       "1        1         0                1               0  \n",
       "2        0         1                1               0  \n",
       "3        1         0                0               1  \n",
       "4        1         0                0               1  \n",
       "\n",
       "[5 rows x 28 columns]"
      ]
     },
     "execution_count": 113,
     "metadata": {},
     "output_type": "execute_result"
    }
   ],
   "source": [
    "df_onehot.head(5)"
   ]
  },
  {
   "cell_type": "markdown",
   "metadata": {},
   "source": [
    "- On va considérer une labelisation binaire (soit le statut est celibataire, soit marié).\n",
    "- Nous convertissons donc les données en un BinaryLabelDataset, \n",
    "- Nous allos garder seulement l'attribut marital_married, donc nous supprimons la colonne marital_single car elle présente entre autre des informations redondantes."
   ]
  },
  {
   "cell_type": "code",
   "execution_count": 115,
   "metadata": {},
   "outputs": [
    {
     "name": "stdout",
     "output_type": "stream",
     "text": [
      "               instance weights features                              \\\n",
      "                                                                       \n",
      "                                     age balance previous job_admin.   \n",
      "instance names                                                         \n",
      "0                           1.0     58.0  2143.0      0.0        0.0   \n",
      "1                           1.0     44.0    29.0      0.0        0.0   \n",
      "2                           1.0     33.0     2.0      0.0        0.0   \n",
      "3                           1.0     47.0  1506.0      0.0        0.0   \n",
      "4                           1.0     33.0     1.0      0.0        0.0   \n",
      "...                         ...      ...     ...      ...        ...   \n",
      "45206                       1.0     51.0   825.0      0.0        0.0   \n",
      "45207                       1.0     71.0  1729.0      0.0        0.0   \n",
      "45208                       1.0     72.0  5715.0      3.0        0.0   \n",
      "45209                       1.0     57.0   668.0      0.0        0.0   \n",
      "45210                       1.0     37.0  2971.0     11.0        0.0   \n",
      "\n",
      "                                                                              \\\n",
      "                                                                               \n",
      "               job_blue-collar job_entrepreneur job_housemaid job_management   \n",
      "instance names                                                                 \n",
      "0                          0.0              0.0           0.0            1.0   \n",
      "1                          0.0              0.0           0.0            0.0   \n",
      "2                          0.0              1.0           0.0            0.0   \n",
      "3                          1.0              0.0           0.0            0.0   \n",
      "4                          0.0              0.0           0.0            0.0   \n",
      "...                        ...              ...           ...            ...   \n",
      "45206                      0.0              0.0           0.0            0.0   \n",
      "45207                      0.0              0.0           0.0            0.0   \n",
      "45208                      0.0              0.0           0.0            0.0   \n",
      "45209                      1.0              0.0           0.0            0.0   \n",
      "45210                      0.0              1.0           0.0            0.0   \n",
      "\n",
      "                            ...                                       \\\n",
      "                            ...                                        \n",
      "               job_retired  ... education_tertiary education_unknown   \n",
      "instance names              ...                                        \n",
      "0                      0.0  ...                1.0               0.0   \n",
      "1                      0.0  ...                0.0               0.0   \n",
      "2                      0.0  ...                0.0               0.0   \n",
      "3                      0.0  ...                0.0               1.0   \n",
      "4                      0.0  ...                0.0               1.0   \n",
      "...                    ...  ...                ...               ...   \n",
      "45206                  0.0  ...                1.0               0.0   \n",
      "45207                  1.0  ...                0.0               0.0   \n",
      "45208                  1.0  ...                0.0               0.0   \n",
      "45209                  0.0  ...                0.0               0.0   \n",
      "45210                  0.0  ...                0.0               0.0   \n",
      "\n",
      "                                                                               \\\n",
      "                                                                                \n",
      "               default_no default_yes housing_no housing_yes loan_no loan_yes   \n",
      "instance names                                                                  \n",
      "0                     1.0         0.0        0.0         1.0     1.0      0.0   \n",
      "1                     1.0         0.0        0.0         1.0     1.0      0.0   \n",
      "2                     1.0         0.0        0.0         1.0     0.0      1.0   \n",
      "3                     1.0         0.0        0.0         1.0     1.0      0.0   \n",
      "4                     1.0         0.0        1.0         0.0     1.0      0.0   \n",
      "...                   ...         ...        ...         ...     ...      ...   \n",
      "45206                 1.0         0.0        1.0         0.0     1.0      0.0   \n",
      "45207                 1.0         0.0        1.0         0.0     1.0      0.0   \n",
      "45208                 1.0         0.0        1.0         0.0     1.0      0.0   \n",
      "45209                 1.0         0.0        1.0         0.0     1.0      0.0   \n",
      "45210                 1.0         0.0        1.0         0.0     1.0      0.0   \n",
      "\n",
      "                                   labels  \n",
      "               protected attribute         \n",
      "                   marital_married         \n",
      "instance names                             \n",
      "0                              1.0    0.0  \n",
      "1                              1.0    0.0  \n",
      "2                              1.0    0.0  \n",
      "3                              0.0    0.0  \n",
      "4                              0.0    0.0  \n",
      "...                            ...    ...  \n",
      "45206                          1.0    0.0  \n",
      "45207                          1.0    0.0  \n",
      "45208                          1.0    0.0  \n",
      "45209                          1.0    0.0  \n",
      "45210                          1.0    0.0  \n",
      "\n",
      "[45211 rows x 28 columns]\n"
     ]
    }
   ],
   "source": [
    "df_aif = BinaryLabelDataset(df=df_onehot.drop('marital_single', axis=1), \\\n",
    "                            label_names=['y'], protected_attribute_names=['marital_married'])\n",
    "print(df_aif)"
   ]
  },
  {
   "cell_type": "markdown",
   "metadata": {},
   "source": [
    "Definir les préviléges des groupes (0/1) de la colonne marital_married"
   ]
  },
  {
   "cell_type": "code",
   "execution_count": 116,
   "metadata": {},
   "outputs": [],
   "source": [
    "privileged_group = [{'marital_married': 0}]\n",
    "unprivileged_group = [{'marital_married': 1}]"
   ]
  },
  {
   "cell_type": "markdown",
   "metadata": {},
   "source": [
    "Diviser le dataset on a un ensemble de test, de train et de validation "
   ]
  },
  {
   "cell_type": "code",
   "execution_count": 117,
   "metadata": {},
   "outputs": [
    {
     "name": "stdout",
     "output_type": "stream",
     "text": [
      "[(22605, 26), (13563, 26), (9043, 26)]\n"
     ]
    }
   ],
   "source": [
    "df_orig_trn, df_orig_val, df_orig_tst = df_aif.split([0.5, 0.8], shuffle=True)\n",
    "print([x.features.shape for x in [df_orig_trn, df_orig_val, df_orig_tst]])"
   ]
  },
  {
   "cell_type": "markdown",
   "metadata": {},
   "source": [
    "On va maintenant choisir une fairness metric et l'appliquer sur l'ensemble du dataset"
   ]
  },
  {
   "cell_type": "markdown",
   "metadata": {},
   "source": [
    "Cette metrique fait référence aux diverses tentatives de correction des biais algorithmiques dans les processus de décision automatisés basés sur des modèles d'apprentissage automatique."
   ]
  },
  {
   "cell_type": "markdown",
   "metadata": {},
   "source": [
    "Il existe différentes mesures de fairness dans aif360, mais celle sur laquelle nous nous concentrerons est la disparate ipact (DI). Il s'agit de la probabilité de succès étant donné que le demandeur d'emploi est non privilégié (femme),divisée par la probabilité de succès étant donné que le demandeur d'emploi est privilégié (homme). Nous reformulons cela en 1 - min(DI, 1/DI), puisque DI peut être supérieur à 1, ce qui signifierait que le groupe privilégié est désavantagé. Pour notre indice de référence d'équité, nous exigeons que 1 - min(DI, 1/DI) < 0,2."
   ]
  },
  {
   "cell_type": "code",
   "execution_count": 118,
   "metadata": {},
   "outputs": [
    {
     "name": "stdout",
     "output_type": "stream",
     "text": [
      "1-min(DI, 1/DI): 0.594\n"
     ]
    }
   ],
   "source": [
    "metric_orig_trn = BinaryLabelDatasetMetric(df_orig_trn, unprivileged_group, privileged_group)\n",
    "\n",
    "\n",
    "def get_disparity_index(di):\n",
    "    return 1 - np.minimum(di, 1 / di)\n",
    "\n",
    "\n",
    "print('1-min(DI, 1/DI):', get_disparity_index(metric_orig_trn.disparate_impact()).round(3))"
   ]
  },
  {
   "cell_type": "markdown",
   "metadata": {},
   "source": [
    "Cette valeur de 1 - min(DI, 1/DI) confirme que l'ensemble de données d'origine est biaisé. Si la valeur est de 0. Donc il n y a pas de biais. Ce n'est pas le cas ici"
   ]
  },
  {
   "cell_type": "markdown",
   "metadata": {},
   "source": [
    "# Entrainner un modéle et mesurer le biais"
   ]
  },
  {
   "cell_type": "markdown",
   "metadata": {},
   "source": [
    "- Choisir un logitique regression comme classifieur"
   ]
  },
  {
   "cell_type": "code",
   "execution_count": 119,
   "metadata": {},
   "outputs": [],
   "source": [
    "def train_lr_model(dataset):\n",
    "    scale = StandardScaler().fit(dataset.features)\n",
    "    model = LogisticRegression(random_state=0, solver='liblinear')\n",
    "    x_train = scale.transform(dataset.features)\n",
    "    y_train = dataset.labels.ravel()\n",
    "    model.fit(x_train, y_train, sample_weight=dataset.instance_weights)\n",
    "    y_train_pred = model.predict(x_train)\n",
    "    return model, scale"
   ]
  },
  {
   "cell_type": "code",
   "execution_count": 120,
   "metadata": {},
   "outputs": [],
   "source": [
    "lr_orig, lr_scale_orig = train_lr_model(df_orig_trn)"
   ]
  },
  {
   "cell_type": "markdown",
   "metadata": {},
   "source": [
    "- Notre objectif maintenant c'est de: \n",
    "    + Trouver la meilleur modélisation qui donne la meilleur accuracy (noter bien le seil associé et l'accuracy)\n",
    "    + Calculer au fur et à mesure le biais"
   ]
  },
  {
   "cell_type": "code",
   "execution_count": 122,
   "metadata": {},
   "outputs": [
    {
     "name": "stderr",
     "output_type": "stream",
     "text": [
      " 39%|███▉      | 39/100 [00:01<00:01, 45.33it/s]invalid value encountered in double_scalars\n",
      "100%|██████████| 100/100 [00:03<00:00, 33.23it/s]"
     ]
    },
    {
     "name": "stdout",
     "output_type": "stream",
     "text": [
      "Threshold corresponding to best balanced accuracy: 0.099\n",
      "Best balanced accuracy: 0.628\n"
     ]
    },
    {
     "name": "stderr",
     "output_type": "stream",
     "text": [
      "\n"
     ]
    }
   ],
   "source": [
    "thresh_arr = np.linspace(0.01, 0.5, 100)\n",
    "\n",
    "\n",
    "def get_y_pred_prob_lr(scale, model, dataset):\n",
    "    x = scale.transform(dataset.features)\n",
    "    y_pred_prob = model.predict_proba(x)\n",
    "    return y_pred_prob\n",
    "\n",
    "\n",
    "y_validate_pred_prob_orig = get_y_pred_prob_lr(scale=lr_scale_orig, model=lr_orig, dataset=df_orig_val)\n",
    "\n",
    "\n",
    "def get_bal_acc(classified_metric):\n",
    "    return 0.5 * (classified_metric.true_positive_rate() + classified_metric.true_negative_rate())\n",
    "\n",
    "\n",
    "def get_best_bal_acc_cutoff(y_pred_prob, dataset):\n",
    "    y_validate_pred_prob = y_pred_prob\n",
    "    bal_acc_arr = []\n",
    "    disp_imp_arr = []\n",
    "\n",
    "    for thresh in tqdm(thresh_arr):\n",
    "        y_validate_pred = (y_validate_pred_prob[:, 1] > thresh).astype(np.double)\n",
    "        dataset_pred = dataset.copy()\n",
    "        dataset_pred.labels = y_validate_pred\n",
    "\n",
    "        # Calculate accuracy for each threshold value\n",
    "        classified_metric = ClassificationMetric(dataset, dataset_pred, unprivileged_group, privileged_group)\n",
    "        bal_acc = get_bal_acc(classified_metric)\n",
    "        bal_acc_arr.append(bal_acc)\n",
    "\n",
    "        # Calculate fairness for each threshold value\n",
    "        metric_pred = BinaryLabelDatasetMetric(dataset_pred, unprivileged_group, privileged_group)\n",
    "        disp_imp_arr.append(metric_pred.disparate_impact())\n",
    "\n",
    "    # Find threshold for best accuracy\n",
    "    thresh_arr_best_ind = np.where(bal_acc_arr == np.max(bal_acc_arr))[0][0]\n",
    "    thresh_arr_best = np.array(thresh_arr)[thresh_arr_best_ind]\n",
    "\n",
    "    # Calculate accuracy and fairness at this threshold\n",
    "    best_bal_acc = bal_acc_arr[thresh_arr_best_ind]\n",
    "    disp_imp_at_best_bal_acc = disp_imp_arr[thresh_arr_best_ind]\n",
    "\n",
    "    # Output metrics\n",
    "    acc_metrics = pd.DataFrame({'thresh_arr_best_ind': thresh_arr_best_ind, \\\n",
    "                                'thresh_arr_best': thresh_arr_best, \\\n",
    "                                'best_bal_acc': best_bal_acc, \\\n",
    "                                'disp_imp_at_best_bal_acc': disp_imp_at_best_bal_acc}, index=[0]).transpose()\n",
    "    return acc_metrics, bal_acc_arr, disp_imp_arr, dataset_pred.labels\n",
    "\n",
    "\n",
    "acc_metrics_orig, bal_acc_arr_orig, disp_imp_arr_orig, dataset_pred_labels_orig = \\\n",
    "    get_best_bal_acc_cutoff(y_pred_prob=y_validate_pred_prob_orig, dataset=df_orig_val)\n",
    "\n",
    "print('Threshold corresponding to best balanced accuracy:', acc_metrics_orig.loc['thresh_arr_best', 0].round(3))\n",
    "print('Best balanced accuracy:', acc_metrics_orig.loc['best_bal_acc', 0].round(3))\n",
    "\n",
    "\n"
   ]
  },
  {
   "cell_type": "code",
   "execution_count": 123,
   "metadata": {},
   "outputs": [
    {
     "name": "stdout",
     "output_type": "stream",
     "text": [
      "1-min(DI, 1/DI): 1.0\n"
     ]
    },
    {
     "name": "stderr",
     "output_type": "stream",
     "text": [
      "divide by zero encountered in double_scalars\n"
     ]
    }
   ],
   "source": [
    "print('1-min(DI, 1/DI):', get_disparity_index(acc_metrics_orig.loc['disp_imp_at_best_bal_acc', 0]).round(3))"
   ]
  },
  {
   "cell_type": "markdown",
   "metadata": {},
   "source": [
    "Expliquer le résultat obtenu"
   ]
  },
  {
   "cell_type": "markdown",
   "metadata": {},
   "source": [
    "==> Cela montre que le seuil avec la meilleure précision est de 0,094. À ce seuil, notre métrique de précision (précision équilibrée) est de 0,753, mais notre métrique d'équité (1-min(DI, 1/DI)) est de 0,522, ce qui indique un biais. Nous pouvons tracer ces mesures de précision et d'équité sur une plage de seuils de classification :"
   ]
  },
  {
   "cell_type": "markdown",
   "metadata": {},
   "source": [
    "+ On remarque aussi que meme avec la determination du meilleur seuil statistique et meilleur accuracy, il y a un biais. (calculé par le disparate impact)"
   ]
  },
  {
   "cell_type": "markdown",
   "metadata": {},
   "source": [
    "- Dessiner les courbes suivantes:\n",
    "    - Accuracy * Seuil\n",
    "    - DI * Seuil"
   ]
  },
  {
   "cell_type": "code",
   "execution_count": 125,
   "metadata": {},
   "outputs": [
    {
     "name": "stderr",
     "output_type": "stream",
     "text": [
      "divide by zero encountered in true_divide\n"
     ]
    },
    {
     "data": {
      "image/png": "[encoded data removed]",
      "text/plain": [
       "<Figure size 720x504 with 2 Axes>"
      ]
     },
     "metadata": {
      "needs_background": "light"
     },
     "output_type": "display_data"
    }
   ],
   "source": [
    "\n",
    "def plot_acc_vs_fairness(metric, metric_name, bal_acc_arr, thresh_arr_best_ind):\n",
    "    fig, ax1 = plt.subplots(figsize=(10, 7))\n",
    "    ax1.plot(thresh_arr, bal_acc_arr, color='b')\n",
    "    ax1.set_xlabel('Classification Thresholds', fontsize=16, fontweight='bold')\n",
    "    ax1.set_ylabel('Balanced Accuracy', color='b', fontsize=16, fontweight='bold')\n",
    "    ax1.xaxis.set_tick_params(labelsize=14)\n",
    "    ax1.yaxis.set_tick_params(labelsize=14, labelcolor='b')\n",
    "    ax2 = ax1.twinx()\n",
    "    ax2.plot(thresh_arr, metric, color='r')\n",
    "    ax2.set_ylabel(metric_name, color='r', fontsize=16, fontweight='bold')\n",
    "    ax2.axvline(np.array(thresh_arr)[thresh_arr_best_ind], color='k', linestyle=':')\n",
    "    ax2.yaxis.set_tick_params(labelsize=14, labelcolor='r')\n",
    "    ax2.grid(True)\n",
    "\n",
    "\n",
    "plot_acc_vs_fairness(get_disparity_index(np.array(disp_imp_arr_orig)), \\\n",
    "                     '1-min(DI, 1/DI)', bal_acc_arr_orig, \\\n",
    "                     acc_metrics_orig.loc['thresh_arr_best_ind', 0].astype(int))"
   ]
  },
  {
   "cell_type": "markdown",
   "metadata": {},
   "source": [
    "Interpreter la signification des deux courbes"
   ]
  },
  {
   "cell_type": "markdown",
   "metadata": {},
   "source": [
    "On vois sur la courbe que la meilleur accuracy trouvé est le pique en bleu, qui corresponde au seuil (Threshol associé de 0.084)\n",
    "Dans la courbe rouge, on vois si on réequilibre à 0.084, le biais sera de 0.522, ce qui est un biais énorme\n"
   ]
  },
  {
   "cell_type": "markdown",
   "metadata": {},
   "source": [
    "Completer alors les valeurs de nos 3 metriques : Accuracy, seuil, DI sur le jeu de test"
   ]
  },
  {
   "cell_type": "code",
   "execution_count": 126,
   "metadata": {},
   "outputs": [
    {
     "name": "stdout",
     "output_type": "stream",
     "text": [
      "Threshold corresponding to best balanced accuracy: 0.099\n",
      "Best balanced accuracy: 0.616\n",
      "1-min(DI, 1/DI): 1.0\n"
     ]
    }
   ],
   "source": [
    "y_test_pred_prob_orig = get_y_pred_prob_lr(scale=lr_scale_orig, model=lr_orig, dataset=df_orig_tst)\n",
    "\n",
    "\n",
    "def test_lr_model(y_data_pred_prob, dataset, thresh_arr):\n",
    "    y_pred = (y_data_pred_prob[:, 1] > thresh_arr).astype(np.double)\n",
    "    dataset_pred = dataset.copy()\n",
    "    dataset_pred.labels = y_pred\n",
    "    classified_metric = ClassificationMetric(dataset, dataset_pred, unprivileged_group, privileged_group)\n",
    "    metric_pred = BinaryLabelDatasetMetric(dataset_pred, unprivileged_group, privileged_group)\n",
    "    return dataset_pred.labels, classified_metric, metric_pred\n",
    "\n",
    "\n",
    "dataset_pred_labels_orig, classified_metric_orig, metric_pred_orig = test_lr_model( \\\n",
    "    y_data_pred_prob=y_test_pred_prob_orig, dataset=df_orig_tst, \\\n",
    "    thresh_arr=acc_metrics_orig.loc['thresh_arr_best', 0])\n",
    "\n",
    "print('Threshold corresponding to best balanced accuracy:', acc_metrics_orig.loc['thresh_arr_best', 0].round(3))\n",
    "print('Best balanced accuracy:', get_bal_acc(classified_metric_orig).round(3))\n",
    "print('1-min(DI, 1/DI):', get_disparity_index(metric_pred_orig.disparate_impact()).round(3))"
   ]
  },
  {
   "cell_type": "markdown",
   "metadata": {},
   "source": [
    "Expliquer les résultats"
   ]
  },
  {
   "cell_type": "markdown",
   "metadata": {},
   "source": [
    "==> Comme pour l'ensemble de données de validation, nous nous retrouvons avec une bonne précision, mais une mauvaise métrique de Fairness. Cela montre que si nous ne considérons que la précision (comme c'est souvent le cas dans de nombreuses organisations), nous nous retrouvons avec un modèle biasé."
   ]
  },
  {
   "cell_type": "markdown",
   "metadata": {},
   "source": [
    "# Calibrage des données"
   ]
  },
  {
   "cell_type": "markdown",
   "metadata": {},
   "source": [
    "Pour Traiter le biais, On va dans un premier temps transformer notre jeu de donnée par la technique \"Reweighing\". Cela attribue des pondérations différentes aux différentes entités de la population pour garantir le fairness."
   ]
  },
  {
   "cell_type": "code",
   "execution_count": 127,
   "metadata": {},
   "outputs": [],
   "source": [
    "RW = Reweighing(unprivileged_group, privileged_group)\n",
    "df_transf_trn = RW.fit_transform(df_orig_trn)"
   ]
  },
  {
   "cell_type": "markdown",
   "metadata": {},
   "source": [
    "# Calcul du fairness metric sur la dataset transformé"
   ]
  },
  {
   "cell_type": "code",
   "execution_count": 128,
   "metadata": {},
   "outputs": [
    {
     "name": "stdout",
     "output_type": "stream",
     "text": [
      "1-min(DI, 1/DI): 0.0\n"
     ]
    }
   ],
   "source": [
    "metric_transf_trn = BinaryLabelDatasetMetric(df_transf_trn, unprivileged_group, privileged_group)\n",
    "print('1-min(DI, 1/DI):', get_disparity_index(metric_transf_trn.disparate_impact()).round(3))"
   ]
  },
  {
   "cell_type": "markdown",
   "metadata": {},
   "source": [
    "Que remarquez-vous ?"
   ]
  },
  {
   "cell_type": "markdown",
   "metadata": {},
   "source": [
    "==> Lorsque nous calculons la métrique d'équité sur l'ensemble de données transformé, nous constatons qu'il est équitable."
   ]
  },
  {
   "cell_type": "markdown",
   "metadata": {},
   "source": [
    "# Entrainer un modéle sur le dataset non-biaisé (équilibré)"
   ]
  },
  {
   "cell_type": "markdown",
   "metadata": {},
   "source": [
    "Refaire un autre modéle sur le jeu de donnée transformé, et on noter l'ensemble des metriques. Utiliser le jeu de données de validation dans ce cas"
   ]
  },
  {
   "cell_type": "code",
   "execution_count": 129,
   "metadata": {},
   "outputs": [],
   "source": [
    "lr_transf, lr_scale_transf = train_lr_model(df_transf_trn)"
   ]
  },
  {
   "cell_type": "code",
   "execution_count": 130,
   "metadata": {},
   "outputs": [
    {
     "name": "stderr",
     "output_type": "stream",
     "text": [
      " 25%|██▌       | 25/100 [00:00<00:01, 40.79it/s]divide by zero encountered in double_scalars\n",
      "invalid value encountered in double_scalars\n",
      "100%|██████████| 100/100 [00:03<00:00, 33.27it/s]"
     ]
    },
    {
     "name": "stdout",
     "output_type": "stream",
     "text": [
      "Threshold corresponding to best balanced accuracy: 0.104\n",
      "Best balanced accuracy: 0.511\n",
      "1-min(DI, 1/DI): 0.005\n"
     ]
    },
    {
     "name": "stderr",
     "output_type": "stream",
     "text": [
      "\n"
     ]
    }
   ],
   "source": [
    "y_validate_pred_prob_transf = get_y_pred_prob_lr(scale=lr_scale_transf, model=lr_transf, dataset=df_orig_val)\n",
    "acc_metrics_transf, bal_acc_arr_transf, disp_imp_arr_transf, dataset_pred_labels_transf = \\\n",
    "    get_best_bal_acc_cutoff(y_pred_prob=y_validate_pred_prob_transf, dataset=df_orig_val)\n",
    "\n",
    "print('Threshold corresponding to best balanced accuracy:', acc_metrics_transf.loc['thresh_arr_best', 0].round(3))\n",
    "print('Best balanced accuracy:', acc_metrics_transf.loc['best_bal_acc', 0].round(3))\n",
    "print('1-min(DI, 1/DI):', get_disparity_index(acc_metrics_transf.loc['disp_imp_at_best_bal_acc', 0]).round(3))\n"
   ]
  },
  {
   "cell_type": "markdown",
   "metadata": {},
   "source": [
    "Expliquer le résultat"
   ]
  },
  {
   "cell_type": "markdown",
   "metadata": {},
   "source": [
    "==> Cela montre que le seuil avec la meilleure précision est de 0,079. À ce seuil, notre métrique de précision (précision équilibrée) est de 0,749, et notre métrique d'équité (1-min(DI, 1/DI)) est de 0,107, ce qui n'indique aucun biais. "
   ]
  },
  {
   "cell_type": "markdown",
   "metadata": {},
   "source": [
    "Tracer l'ensemble de mesures précision et DI sur une plage de seuils de classification"
   ]
  },
  {
   "cell_type": "code",
   "execution_count": 131,
   "metadata": {},
   "outputs": [
    {
     "data": {
      "image/png": "[encoded data removed]",
      "text/plain": [
       "<Figure size 720x504 with 2 Axes>"
      ]
     },
     "metadata": {
      "needs_background": "light"
     },
     "output_type": "display_data"
    }
   ],
   "source": [
    "plot_acc_vs_fairness(get_disparity_index(np.array(disp_imp_arr_transf)), \\\n",
    "  '1-min(DI, 1/DI)', bal_acc_arr_transf, \\\n",
    "  acc_metrics_orig.loc['thresh_arr_best_ind', 0].astype(int))"
   ]
  },
  {
   "cell_type": "markdown",
   "metadata": {},
   "source": [
    "Interpreter la courbe"
   ]
  },
  {
   "cell_type": "markdown",
   "metadata": {},
   "source": [
    "- On vois sur la courbe que la meilleur accuracy trouvé est le pique en bleu 0.749, qui corresponde au seuil (Threshol associé de 0.079)\n",
    "- Dans la courbe rouge, on vois si on réequilibre à ce seuil 0.089, le biais sera de 0.107, ce qui est un biais acceptable"
   ]
  },
  {
   "cell_type": "markdown",
   "metadata": {},
   "source": [
    "# Tester le model sur le dataset non-biaisé (equilibré)"
   ]
  },
  {
   "cell_type": "markdown",
   "metadata": {},
   "source": [
    "Noter l'ensemble des mesures obtenues"
   ]
  },
  {
   "cell_type": "code",
   "execution_count": 132,
   "metadata": {},
   "outputs": [
    {
     "name": "stdout",
     "output_type": "stream",
     "text": [
      "Threshold corresponding to best balanced accuracy: 0.104\n",
      "Best balanced accuracy: 0.499\n",
      "1-min(DI, 1/DI): 0.051\n"
     ]
    }
   ],
   "source": [
    "y_test_pred_prob_transf = get_y_pred_prob_lr(scale=lr_scale_transf, model=lr_transf, dataset=df_orig_tst)\n",
    "\n",
    "dataset_pred_labels_transf, classified_metric_transf, metric_pred_transf = test_lr_model(\\\n",
    "  y_data_pred_prob=y_test_pred_prob_transf, dataset=df_orig_tst,\\\n",
    "  thresh_arr=acc_metrics_transf.loc['thresh_arr_best', 0])\n",
    "\n",
    "print('Threshold corresponding to best balanced accuracy:', acc_metrics_transf.loc['thresh_arr_best', 0].round(3))\n",
    "print('Best balanced accuracy:', get_bal_acc(classified_metric_transf).round(3))\n",
    "print('1-min(DI, 1/DI):', get_disparity_index(metric_pred_transf.disparate_impact()).round(3))"
   ]
  },
  {
   "cell_type": "markdown",
   "metadata": {},
   "source": [
    "Interpreter le résultat"
   ]
  },
  {
   "cell_type": "markdown",
   "metadata": {},
   "source": [
    "Comme pour l'ensemble de données de validation, nous nous retrouvons avec une bonne métrique de précision et de fairness. L'atténuation du biais a entraîné une légère détérioration de la précision (de 0,748 à 0,749), mais une amélioration considérable de l'équité (0,511 à 0,107). Cela montre que des modèles à la fois précis et justes peuvent être construits sur des données biaisées, à condition que l'atténuation des biais soit appliquée de manière appropriée."
   ]
  },
  {
   "cell_type": "markdown",
   "metadata": {},
   "source": [
    "# Conclusion"
   ]
  },
  {
   "cell_type": "markdown",
   "metadata": {},
   "source": [
    "Nous avons vu ici comment un ensemble de données avec un biais historique entraînera des modèles construits dessus pour produire des résultats injustes. Dans notre scénario, plus de ressources seraient allouées aux celibataires, car ils ont toujours été plus susceptibles d'obtenir un credit. En effet, les techniques d'apprentissage automatique traditionnelles optimisent uniquement la précision, pas l'équité.Nous avons également vu qu'en appliquant des techniques simples d'atténuation des biais, nous pouvons supprimer le biais de l'ensemble de données et ainsi créer des modèles avec une précision comparable, mais des mesures d'équité bien meilleures. Ces techniques de détection et d'atténuation des biais sont très pertinentes pour toute organisation cherchant à automatiser la prise de décision sur les populations aux attributs protégés."
   ]
  },
  {
   "cell_type": "code",
   "execution_count": null,
   "metadata": {},
   "outputs": [],
   "source": []
  }
 ],
 "metadata": {
  "kernelspec": {
   "display_name": "Python 3",
   "language": "python",
   "name": "python3"
  },
  "language_info": {
   "codemirror_mode": {
    "name": "ipython",
    "version": 3
   },
   "file_extension": ".py",
   "mimetype": "text/x-python",
   "name": "python",
   "nbconvert_exporter": "python",
   "pygments_lexer": "ipython3",
   "version": "3.6.9"
  }
 },
 "nbformat": 4,
 "nbformat_minor": 1
}
