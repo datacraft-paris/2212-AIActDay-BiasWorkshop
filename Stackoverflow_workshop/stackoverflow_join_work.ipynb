{
 "cells": [
  {
   "cell_type": "code",
   "execution_count": 1,
   "id": "dd68333f",
   "metadata": {},
   "outputs": [],
   "source": [
    "# Import packages\n",
    "import numpy as np\n",
    "import pandas as pd\n",
    "import matplotlib.pyplot as plt\n",
    "import seaborn as sns"
   ]
  },
  {
   "cell_type": "code",
   "execution_count": 22,
   "id": "88eb3f86",
   "metadata": {},
   "outputs": [
    {
     "name": "stdout",
     "output_type": "stream",
     "text": [
      "(83439, 48)\n",
      "(73268, 79)\n",
      "df.shape=(156707, 85)\n"
     ]
    },
    {
     "data": {
      "text/html": [
       "<div>\n",
       "<style scoped>\n",
       "    .dataframe tbody tr th:only-of-type {\n",
       "        vertical-align: middle;\n",
       "    }\n",
       "\n",
       "    .dataframe tbody tr th {\n",
       "        vertical-align: top;\n",
       "    }\n",
       "\n",
       "    .dataframe thead th {\n",
       "        text-align: right;\n",
       "    }\n",
       "</style>\n",
       "<table border=\"1\" class=\"dataframe\">\n",
       "  <thead>\n",
       "    <tr style=\"text-align: right;\">\n",
       "      <th></th>\n",
       "      <th>ResponseId</th>\n",
       "      <th>MainBranch</th>\n",
       "      <th>Employment</th>\n",
       "      <th>Country</th>\n",
       "      <th>US_State</th>\n",
       "      <th>UK_Country</th>\n",
       "      <th>EdLevel</th>\n",
       "      <th>Age1stCode</th>\n",
       "      <th>LearnCode</th>\n",
       "      <th>YearsCode</th>\n",
       "      <th>...</th>\n",
       "      <th>Frequency_1</th>\n",
       "      <th>Frequency_2</th>\n",
       "      <th>Frequency_3</th>\n",
       "      <th>TimeSearching</th>\n",
       "      <th>TimeAnswering</th>\n",
       "      <th>Onboarding</th>\n",
       "      <th>ProfessionalTech</th>\n",
       "      <th>TrueFalse_1</th>\n",
       "      <th>TrueFalse_2</th>\n",
       "      <th>TrueFalse_3</th>\n",
       "    </tr>\n",
       "  </thead>\n",
       "  <tbody>\n",
       "    <tr>\n",
       "      <th>0</th>\n",
       "      <td>1</td>\n",
       "      <td>I am a developer by profession</td>\n",
       "      <td>Independent contractor, freelancer, or self-em...</td>\n",
       "      <td>Slovakia</td>\n",
       "      <td>NaN</td>\n",
       "      <td>NaN</td>\n",
       "      <td>Secondary school (e.g. American high school, G...</td>\n",
       "      <td>18 - 24 years</td>\n",
       "      <td>Coding Bootcamp;Other online resources (ex: vi...</td>\n",
       "      <td>NaN</td>\n",
       "      <td>...</td>\n",
       "      <td>NaN</td>\n",
       "      <td>NaN</td>\n",
       "      <td>NaN</td>\n",
       "      <td>NaN</td>\n",
       "      <td>NaN</td>\n",
       "      <td>NaN</td>\n",
       "      <td>NaN</td>\n",
       "      <td>NaN</td>\n",
       "      <td>NaN</td>\n",
       "      <td>NaN</td>\n",
       "    </tr>\n",
       "    <tr>\n",
       "      <th>1</th>\n",
       "      <td>2</td>\n",
       "      <td>I am a student who is learning to code</td>\n",
       "      <td>Student, full-time</td>\n",
       "      <td>Netherlands</td>\n",
       "      <td>NaN</td>\n",
       "      <td>NaN</td>\n",
       "      <td>Bachelor’s degree (B.A., B.S., B.Eng., etc.)</td>\n",
       "      <td>11 - 17 years</td>\n",
       "      <td>Other online resources (ex: videos, blogs, etc...</td>\n",
       "      <td>7</td>\n",
       "      <td>...</td>\n",
       "      <td>NaN</td>\n",
       "      <td>NaN</td>\n",
       "      <td>NaN</td>\n",
       "      <td>NaN</td>\n",
       "      <td>NaN</td>\n",
       "      <td>NaN</td>\n",
       "      <td>NaN</td>\n",
       "      <td>NaN</td>\n",
       "      <td>NaN</td>\n",
       "      <td>NaN</td>\n",
       "    </tr>\n",
       "    <tr>\n",
       "      <th>2</th>\n",
       "      <td>3</td>\n",
       "      <td>I am not primarily a developer, but I write co...</td>\n",
       "      <td>Student, full-time</td>\n",
       "      <td>Russian Federation</td>\n",
       "      <td>NaN</td>\n",
       "      <td>NaN</td>\n",
       "      <td>Bachelor’s degree (B.A., B.S., B.Eng., etc.)</td>\n",
       "      <td>11 - 17 years</td>\n",
       "      <td>Other online resources (ex: videos, blogs, etc...</td>\n",
       "      <td>NaN</td>\n",
       "      <td>...</td>\n",
       "      <td>NaN</td>\n",
       "      <td>NaN</td>\n",
       "      <td>NaN</td>\n",
       "      <td>NaN</td>\n",
       "      <td>NaN</td>\n",
       "      <td>NaN</td>\n",
       "      <td>NaN</td>\n",
       "      <td>NaN</td>\n",
       "      <td>NaN</td>\n",
       "      <td>NaN</td>\n",
       "    </tr>\n",
       "  </tbody>\n",
       "</table>\n",
       "<p>3 rows × 85 columns</p>\n",
       "</div>"
      ],
      "text/plain": [
       "   ResponseId                                         MainBranch  \\\n",
       "0           1                     I am a developer by profession   \n",
       "1           2             I am a student who is learning to code   \n",
       "2           3  I am not primarily a developer, but I write co...   \n",
       "\n",
       "                                          Employment             Country  \\\n",
       "0  Independent contractor, freelancer, or self-em...            Slovakia   \n",
       "1                                 Student, full-time         Netherlands   \n",
       "2                                 Student, full-time  Russian Federation   \n",
       "\n",
       "  US_State UK_Country                                            EdLevel  \\\n",
       "0      NaN        NaN  Secondary school (e.g. American high school, G...   \n",
       "1      NaN        NaN       Bachelor’s degree (B.A., B.S., B.Eng., etc.)   \n",
       "2      NaN        NaN       Bachelor’s degree (B.A., B.S., B.Eng., etc.)   \n",
       "\n",
       "      Age1stCode                                          LearnCode YearsCode  \\\n",
       "0  18 - 24 years  Coding Bootcamp;Other online resources (ex: vi...       NaN   \n",
       "1  11 - 17 years  Other online resources (ex: videos, blogs, etc...         7   \n",
       "2  11 - 17 years  Other online resources (ex: videos, blogs, etc...       NaN   \n",
       "\n",
       "   ... Frequency_1 Frequency_2 Frequency_3 TimeSearching  TimeAnswering  \\\n",
       "0  ...         NaN         NaN         NaN           NaN            NaN   \n",
       "1  ...         NaN         NaN         NaN           NaN            NaN   \n",
       "2  ...         NaN         NaN         NaN           NaN            NaN   \n",
       "\n",
       "  Onboarding ProfessionalTech TrueFalse_1 TrueFalse_2 TrueFalse_3  \n",
       "0        NaN              NaN         NaN         NaN         NaN  \n",
       "1        NaN              NaN         NaN         NaN         NaN  \n",
       "2        NaN              NaN         NaN         NaN         NaN  \n",
       "\n",
       "[3 rows x 85 columns]"
      ]
     },
     "execution_count": 22,
     "metadata": {},
     "output_type": "execute_result"
    }
   ],
   "source": [
    "# Load data, 2 years\n",
    "df1 = pd.read_csv(\"survey_results_public_2021.csv\")\n",
    "print(df1.shape)\n",
    "df2 = pd.read_csv(\"survey_results_public_2022.csv\")\n",
    "print(df2.shape)\n",
    "\n",
    "df = pd.concat([df1, df2], ignore_index=True)\n",
    "print(f\"{df.shape=}\")\n",
    "df.head(3)"
   ]
  },
  {
   "cell_type": "code",
   "execution_count": 23,
   "id": "293a35c9",
   "metadata": {},
   "outputs": [],
   "source": [
    "# Select columns \n",
    "keep_col = ['ResponseId',\n",
    "\n",
    " 'LanguageHaveWorkedWith',\n",
    " 'ToolsTechHaveWorkedWith',\n",
    " 'MiscTechHaveWorkedWith',\n",
    " 'WebframeHaveWorkedWith',\n",
    " 'PlatformHaveWorkedWith',\n",
    " 'DatabaseHaveWorkedWith',\n",
    " 'NEWCollabToolsHaveWorkedWith',\n",
    "            \n",
    " #'NEWCollabToolsWantToWorkWith',\n",
    " #'DatabaseWantToWorkWith',\n",
    " #'WebframeWantToWorkWith',\n",
    " #'ToolsTechWantToWorkWith',\n",
    " #'PlatformWantToWorkWith',\n",
    " #'MiscTechWantToWorkWith',\n",
    " #'LanguageWantToWorkWith',\n",
    " \n",
    " 'Age',\n",
    " 'Accessibility',\n",
    " 'EdLevel',\n",
    " 'Employment',\n",
    " 'Ethnicity',\n",
    " 'Gender',\n",
    " 'MentalHealth',\n",
    "\n",
    " 'MainBranch',\n",
    " #'DevType',\n",
    " 'YearsCode',\n",
    " 'YearsCodePro',\n",
    "\n",
    " 'Currency',\n",
    " 'Country',\n",
    " 'ConvertedCompYearly',\n",
    " #'CompTotal',\n",
    " #'CompFreq',\n",
    " #'Sexuality',\n",
    " #'OrgSize'\n",
    "]\n"
   ]
  },
  {
   "cell_type": "code",
   "execution_count": null,
   "id": "e0898c8c",
   "metadata": {},
   "outputs": [],
   "source": [
    "set(df['MainBranch']) # => Useless if 2 values \"dev/notdev but code\""
   ]
  },
  {
   "cell_type": "code",
   "execution_count": 24,
   "id": "38d97321",
   "metadata": {},
   "outputs": [
    {
     "name": "stdout",
     "output_type": "stream",
     "text": [
      "(156707, 15)\n",
      "(78448, 15)\n"
     ]
    }
   ],
   "source": [
    "# Clean data : drop columns, NaNs, Concat (& drop) HaveWorkedWith\n",
    "\n",
    "df = df[keep_col]\n",
    "\n",
    "cols = [col for col in df.columns if col.endswith(\"HaveWorkedWith\")]\n",
    "df['HaveWorkedWith'] = df[cols].apply(lambda row: ';'.join(row.values.astype(str)), axis=1)\n",
    "df = df.drop(columns= cols)\n",
    "print(df.shape)\n",
    "df = df.dropna()\n",
    "print(df.shape)\n"
   ]
  },
  {
   "cell_type": "code",
   "execution_count": 28,
   "id": "a3b5b340",
   "metadata": {},
   "outputs": [
    {
     "name": "stdout",
     "output_type": "stream",
     "text": [
      "Man -- Man\n",
      "Man; Non-binary -- Man\n"
     ]
    }
   ],
   "source": [
    "# Clean data : Reduce distincs responses\n",
    "\n",
    "def clean_gender(string):\n",
    "    if string.split(';')[0] == 'Man':\n",
    "        return 'Man'\n",
    "    elif 'Woman' in string:\n",
    "        return 'Woman'\n",
    "    else:\n",
    "        return 'Blank'\n",
    "    \n",
    "def clean_accessibility(string):\n",
    "    if 'None of the above' in string:\n",
    "        return 'No'\n",
    "    elif 'Prefer not to say' in string:\n",
    "        return 'No'\n",
    "    else:\n",
    "        return 'Yes'\n",
    "    \n",
    "def clean_mentalhealth(string):\n",
    "    if 'None of the above' in string:\n",
    "        return 'No'\n",
    "    elif 'Prefer not to say' in string:\n",
    "        return 'No'\n",
    "    else:\n",
    "        return 'Yes'\n",
    "    \n",
    "def clean_edlevel(string):\n",
    "    \"\"\"\n",
    "     {'Associate degree (A.A., A.S., etc.)',\n",
    "     'Bachelor’s degree (B.A., B.S., B.Eng., etc.)',\n",
    "     'Master’s degree (M.A., M.S., M.Eng., MBA, etc.)',\n",
    "     'Other doctoral degree (Ph.D., Ed.D., etc.)',\n",
    "     'Primary/elementary school',\n",
    "     'Professional degree (JD, MD, etc.)',\n",
    "     'Secondary school (e.g. American high school, German Realschule or Gymnasium, etc.)',\n",
    "     'Some college/university study without earning a degree',\n",
    "     'Something else'}\n",
    "     \"\"\"\n",
    "    return 'TODO'\n",
    "\n",
    "def clean_employ(string):\n",
    "    return 'TODO'\n",
    "\n",
    "def clean_ethnicity(string):\n",
    "    'on prend ?'\n",
    "    return 'TODO'\n",
    "\n",
    "df['Gender'] = df['Gender'].apply(lambda x: clean_gender(x))\n",
    "df['Accessibility'] = df['Accessibility'].apply(lambda x: clean_accessibility(x))\n",
    "df['MentalHealth'] = df['MentalHealth'].apply(lambda x: clean_mentalhealth(x))\n",
    "#df['EdLevel'] = df['EdLevel'].apply(lambda x: clean_edlevel(x))\n",
    "#df['Employment'] = df['Employment'].apply(lambda x: clean_employ(x))\n",
    "#df['Ethnicity'] = df['Ethnicity'].apply(lambda x: clean_ethnicity(x))\n"
   ]
  },
  {
   "cell_type": "code",
   "execution_count": 36,
   "id": "2e68291b",
   "metadata": {},
   "outputs": [
    {
     "name": "stdout",
     "output_type": "stream",
     "text": [
      "Index(['ResponseId', 'Age', 'Accessibility', 'EdLevel', 'Employment',\n",
      "       'Ethnicity', 'Gender', 'MentalHealth', 'MainBranch', 'YearsCode',\n",
      "       'YearsCodePro', 'Currency', 'Country', 'ConvertedCompYearly',\n",
      "       'HaveWorkedWith'],\n",
      "      dtype='object')\n"
     ]
    },
    {
     "data": {
      "text/plain": [
       "{'Employed full-time',\n",
       " 'Employed part-time',\n",
       " 'Employed, full-time',\n",
       " 'Employed, full-time;Employed, part-time',\n",
       " 'Employed, full-time;Independent contractor, freelancer, or self-employed',\n",
       " 'Employed, full-time;Independent contractor, freelancer, or self-employed;Employed, part-time',\n",
       " 'Employed, full-time;Independent contractor, freelancer, or self-employed;Retired',\n",
       " 'Employed, full-time;Retired',\n",
       " 'Employed, part-time',\n",
       " 'Employed, part-time;Retired',\n",
       " 'I prefer not to say',\n",
       " 'Independent contractor, freelancer, or self-employed',\n",
       " 'Independent contractor, freelancer, or self-employed;Employed, part-time',\n",
       " 'Independent contractor, freelancer, or self-employed;Retired',\n",
       " 'Retired'}"
      ]
     },
     "execution_count": 36,
     "metadata": {},
     "output_type": "execute_result"
    }
   ],
   "source": [
    "#print(df.columns)\n",
    "#set(df['Employment'])"
   ]
  },
  {
   "cell_type": "code",
   "execution_count": null,
   "id": "d1306abb",
   "metadata": {},
   "outputs": [],
   "source": [
    "# WIP -- Here"
   ]
  },
  {
   "cell_type": "code",
   "execution_count": 5,
   "id": "00b030b2",
   "metadata": {},
   "outputs": [],
   "source": [
    "# compute HaveWorkedWith skills for which men >> women\n",
    "\n",
    "have_worked_with_columns = [col for col in df.columns if col.endswith(\"HaveWorkedWith\")]\n",
    "\n",
    "dfs = [{\"value\": value, **df.loc[df[\"Gender\"]==value, column].str.get_dummies(\";\").sum().div((df[\"Gender\"]==value).sum())}\n",
    "       for column in have_worked_with_columns\n",
    "       for value in [\"Man\", \"Woman\"]]\n",
    "\n",
    "var = pd.DataFrame(dfs).set_index(\"value\").stack()\n",
    "\n",
    "s3 = (var[\"Man\"] - var[\"Woman\"])\n",
    "should_have_worked_with_gender = set((s3[s3>0.01]).index)"
   ]
  },
  {
   "cell_type": "code",
   "execution_count": 6,
   "id": "cc68ee0c",
   "metadata": {},
   "outputs": [
    {
     "data": {
      "text/plain": [
       "{'.NET',\n",
       " '.NET Core / .NET 5',\n",
       " '.NET Framework',\n",
       " 'ASP.NET Core ',\n",
       " 'AWS',\n",
       " 'Android Studio',\n",
       " 'Angular',\n",
       " 'Ansible',\n",
       " 'Apache Kafka',\n",
       " 'Bash/Shell',\n",
       " 'C',\n",
       " 'C#',\n",
       " 'C++',\n",
       " 'Cloud Firestore',\n",
       " 'Dart',\n",
       " 'Delphi',\n",
       " 'DigitalOcean',\n",
       " 'Django',\n",
       " 'Docker',\n",
       " 'DynamoDB',\n",
       " 'Elasticsearch',\n",
       " 'Electron',\n",
       " 'Emacs',\n",
       " 'Express',\n",
       " 'Firebase',\n",
       " 'Flask',\n",
       " 'Flutter',\n",
       " 'Git',\n",
       " 'Go',\n",
       " 'Google Cloud Platform',\n",
       " 'Heroku',\n",
       " 'IntelliJ',\n",
       " 'Java',\n",
       " 'JavaScript',\n",
       " 'Kotlin',\n",
       " 'Kubernetes',\n",
       " 'Laravel',\n",
       " 'MariaDB',\n",
       " 'Microsoft Azure',\n",
       " 'Microsoft SQL Server',\n",
       " 'Microsoft Teams',\n",
       " 'MongoDB',\n",
       " 'Nano',\n",
       " 'Neovim',\n",
       " 'Next.js',\n",
       " 'Node.js',\n",
       " 'PHP',\n",
       " 'PostgreSQL',\n",
       " 'PowerShell',\n",
       " 'Python',\n",
       " 'Qt',\n",
       " 'React.js',\n",
       " 'Redis',\n",
       " 'Rider',\n",
       " 'Rust',\n",
       " 'SQL',\n",
       " 'SQLite',\n",
       " 'Svelte',\n",
       " 'Terraform',\n",
       " 'TypeScript',\n",
       " 'Unity 3D',\n",
       " 'Vim',\n",
       " 'Visual Studio',\n",
       " 'Visual Studio Code',\n",
       " 'Vue.js',\n",
       " 'Webstorm',\n",
       " 'Yarn',\n",
       " 'npm'}"
      ]
     },
     "execution_count": 6,
     "metadata": {},
     "output_type": "execute_result"
    }
   ],
   "source": [
    "should_have_worked_with_gender"
   ]
  },
  {
   "cell_type": "code",
   "execution_count": 6,
   "id": "630c154a",
   "metadata": {},
   "outputs": [],
   "source": [
    "# compute WantToWorkWith skills for which men >> women\n",
    "\n",
    "want_to_work_with_columns = [col for col in df.columns if col.endswith(\"WantToWorkWith\")]\n",
    "\n",
    "dfs = [{\"value\": value, **df.loc[df[\"Gender\"]==value, column].str.get_dummies(\";\").sum().div((df[\"Gender\"]==value).sum())}\n",
    "       for column in have_worked_with_columns\n",
    "       for value in [\"Man\", \"Woman\"]]\n",
    "\n",
    "var = pd.DataFrame(dfs).set_index(\"value\").stack()\n",
    "\n",
    "s4 = var[\"Man\"] - var[\"Woman\"]\n",
    "should_want_to_worked_with_gender = set((s4[s4>0.01]).index)"
   ]
  },
  {
   "cell_type": "code",
   "execution_count": 7,
   "id": "2471d90b",
   "metadata": {},
   "outputs": [],
   "source": [
    "# compute HaveWorkedWith skills for which yound >> old\n",
    "\n",
    "dfs = [{\"value\": value, **df.loc[df[\"Age\"]==value, column].str.get_dummies(\";\").sum().div((df[\"Age\"]==value).sum())}\n",
    "       for column in have_worked_with_columns\n",
    "       for value in ['18-24 years old', '25-34 years old', '35-44 years old', '45-54 years old', '55-64 years old']]\n",
    "\n",
    "var = pd.DataFrame(dfs).set_index(\"value\").stack()\n",
    "\n",
    "s5 = var[\"18-24 years old\"] + var[\"25-34 years old\"] - var[\"45-54 years old\"] - var[\"55-64 years old\"]\n",
    "should_have_worked_with_age = set((s5[s5>0.01]).index)"
   ]
  },
  {
   "cell_type": "code",
   "execution_count": 8,
   "id": "e0ab3cc7",
   "metadata": {},
   "outputs": [],
   "source": [
    "# compute WantToWorkWith skills for which yound >> old\n",
    "\n",
    "dfs = [{\"value\": value, **df.loc[df[\"Age\"]==value, column].str.get_dummies(\";\").sum().div((df[\"Age\"]==value).sum())}\n",
    "       for column in want_to_work_with_columns\n",
    "       for value in ['18-24 years old', '25-34 years old', '35-44 years old', '45-54 years old', '55-64 years old']]\n",
    "\n",
    "var = pd.DataFrame(dfs).set_index(\"value\").stack()\n",
    "\n",
    "s6 = var[\"18-24 years old\"] + var[\"25-34 years old\"] - var[\"45-54 years old\"] - var[\"55-64 years old\"]\n",
    "should_want_to_worked_with_age = set((s6[s6>0.01]).index)"
   ]
  },
  {
   "cell_type": "code",
   "execution_count": 9,
   "id": "e6a6d191",
   "metadata": {},
   "outputs": [
    {
     "name": "stdout",
     "output_type": "stream",
     "text": [
      "Android Studio, Angular, C, C++, Cloud Firestore, Dart, DigitalOcean, Django, Docker, DynamoDB, Elasticsearch, Electron, Express, Firebase, Flask, Flutter, Git, Go, Google Cloud Platform, Heroku, IntelliJ, Java, JavaScript, Kotlin, Kubernetes, Laravel, MongoDB, Nano, Neovim, Next.js, Node.js, PostgreSQL, Python, React.js, Redis, Rider, Rust, Svelte, TypeScript, Unity 3D, Vim, Visual Studio Code, Vue.js, Webstorm, Yarn, npm\n"
     ]
    }
   ],
   "source": [
    "# skills where men >> women and yound >> old\n",
    "\n",
    "skills = sorted(list(should_have_worked_with_gender.intersection(should_want_to_worked_with_gender).intersection(should_have_worked_with_age).intersection(should_want_to_worked_with_age)))\n",
    "print(*skills, sep=\", \")"
   ]
  },
  {
   "cell_type": "code",
   "execution_count": 10,
   "id": "abbd6f45",
   "metadata": {},
   "outputs": [
    {
     "name": "stdout",
     "output_type": "stream",
     "text": [
      "46\n"
     ]
    }
   ],
   "source": [
    "print(len(skills))"
   ]
  },
  {
   "cell_type": "code",
   "execution_count": 11,
   "id": "e5231cf3",
   "metadata": {},
   "outputs": [
    {
     "data": {
      "text/plain": [
       "(136566, 85)"
      ]
     },
     "execution_count": 11,
     "metadata": {},
     "output_type": "execute_result"
    }
   ],
   "source": [
    "# select man/woman only and 18-64 yo only\n",
    "\n",
    "df1 = df.loc[df[\"Gender\"].isin([\"Man\", \"Woman\"]) &\n",
    "             df[\"Age\"].isin(['18-24 years old', '25-34 years old', '35-44 years old', '45-54 years old', '55-64 years old'])].copy()\n",
    "df1.shape"
   ]
  },
  {
   "cell_type": "code",
   "execution_count": 12,
   "id": "8e309806",
   "metadata": {},
   "outputs": [
    {
     "data": {
      "text/plain": [
       "Man      129460\n",
       "Woman      7106\n",
       "Name: Gender, dtype: int64"
      ]
     },
     "execution_count": 12,
     "metadata": {},
     "output_type": "execute_result"
    }
   ],
   "source": [
    "df1[\"Gender\"].value_counts()"
   ]
  },
  {
   "cell_type": "code",
   "execution_count": 13,
   "id": "769daaaa",
   "metadata": {},
   "outputs": [
    {
     "data": {
      "text/plain": [
       "25-34 years old    58474\n",
       "18-24 years old    36026\n",
       "35-44 years old    28058\n",
       "45-54 years old    10354\n",
       "55-64 years old     3654\n",
       "Name: Age, dtype: int64"
      ]
     },
     "execution_count": 13,
     "metadata": {},
     "output_type": "execute_result"
    }
   ],
   "source": [
    "df1[\"Age\"].value_counts()"
   ]
  },
  {
   "cell_type": "code",
   "execution_count": 14,
   "id": "1a764386",
   "metadata": {},
   "outputs": [],
   "source": [
    "# compute Skills value by people for selected skills\n",
    "# 2 by HaveWorkedWith skill\n",
    "# +\n",
    "# 1 by WantToWorkWith skill\n",
    "\n",
    "var = pd.concat([df1[column].str.get_dummies(\";\") for column in have_worked_with_columns], axis=1)[skills]*2 +\\\n",
    "      pd.concat([df1[column].str.get_dummies(\";\") for column in want_to_work_with_columns], axis=1)[skills]\n",
    "\n",
    "df1[\"Skills\"] = var.sum(axis=1)"
   ]
  },
  {
   "cell_type": "code",
   "execution_count": 15,
   "id": "03ef7125",
   "metadata": {},
   "outputs": [
    {
     "data": {
      "text/plain": [
       "count    136566.000000\n",
       "mean         26.118280\n",
       "std          14.639093\n",
       "min           0.000000\n",
       "25%          15.000000\n",
       "50%          24.000000\n",
       "75%          35.000000\n",
       "max         132.000000\n",
       "Name: Skills, dtype: float64"
      ]
     },
     "execution_count": 15,
     "metadata": {},
     "output_type": "execute_result"
    }
   ],
   "source": [
    "df1[\"Skills\"].describe()"
   ]
  },
  {
   "cell_type": "code",
   "execution_count": 16,
   "id": "67c656a1",
   "metadata": {},
   "outputs": [
    {
     "data": {
      "image/png": "[encoded data removed]",
      "text/plain": [
       "<Figure size 432x288 with 1 Axes>"
      ]
     },
     "metadata": {
      "needs_background": "light"
     },
     "output_type": "display_data"
    }
   ],
   "source": [
    "# men vs women Skills\n",
    "\n",
    "sns.stripplot(data=df1, x=\"Gender\", y=\"Skills\");"
   ]
  },
  {
   "cell_type": "code",
   "execution_count": 17,
   "id": "17336df8",
   "metadata": {},
   "outputs": [
    {
     "data": {
      "image/png": "[encoded data removed]",
      "text/plain": [
       "<Figure size 432x288 with 1 Axes>"
      ]
     },
     "metadata": {
      "needs_background": "light"
     },
     "output_type": "display_data"
    }
   ],
   "source": [
    "# young vs old Skills\n",
    "\n",
    "sns.stripplot(data=df1, x=\"Age\", y=\"Skills\");"
   ]
  },
  {
   "cell_type": "code",
   "execution_count": 18,
   "id": "c6e3f7f3",
   "metadata": {},
   "outputs": [
    {
     "data": {
      "text/html": [
       "<div>\n",
       "<style scoped>\n",
       "    .dataframe tbody tr th:only-of-type {\n",
       "        vertical-align: middle;\n",
       "    }\n",
       "\n",
       "    .dataframe tbody tr th {\n",
       "        vertical-align: top;\n",
       "    }\n",
       "\n",
       "    .dataframe thead th {\n",
       "        text-align: right;\n",
       "    }\n",
       "</style>\n",
       "<table border=\"1\" class=\"dataframe\">\n",
       "  <thead>\n",
       "    <tr style=\"text-align: right;\">\n",
       "      <th>Gender</th>\n",
       "      <th>Man</th>\n",
       "      <th>Woman</th>\n",
       "    </tr>\n",
       "    <tr>\n",
       "      <th>Age</th>\n",
       "      <th></th>\n",
       "      <th></th>\n",
       "    </tr>\n",
       "  </thead>\n",
       "  <tbody>\n",
       "    <tr>\n",
       "      <th>18-24 years old</th>\n",
       "      <td>33992</td>\n",
       "      <td>2034</td>\n",
       "    </tr>\n",
       "    <tr>\n",
       "      <th>25-34 years old</th>\n",
       "      <td>55036</td>\n",
       "      <td>3438</td>\n",
       "    </tr>\n",
       "    <tr>\n",
       "      <th>35-44 years old</th>\n",
       "      <td>26938</td>\n",
       "      <td>1120</td>\n",
       "    </tr>\n",
       "    <tr>\n",
       "      <th>45-54 years old</th>\n",
       "      <td>10009</td>\n",
       "      <td>345</td>\n",
       "    </tr>\n",
       "    <tr>\n",
       "      <th>55-64 years old</th>\n",
       "      <td>3485</td>\n",
       "      <td>169</td>\n",
       "    </tr>\n",
       "  </tbody>\n",
       "</table>\n",
       "</div>"
      ],
      "text/plain": [
       "Gender             Man  Woman\n",
       "Age                          \n",
       "18-24 years old  33992   2034\n",
       "25-34 years old  55036   3438\n",
       "35-44 years old  26938   1120\n",
       "45-54 years old  10009    345\n",
       "55-64 years old   3485    169"
      ]
     },
     "execution_count": 18,
     "metadata": {},
     "output_type": "execute_result"
    }
   ],
   "source": [
    "pd.crosstab(df1[\"Age\"], df1[\"Gender\"])"
   ]
  },
  {
   "cell_type": "code",
   "execution_count": 19,
   "id": "66ec19f2",
   "metadata": {},
   "outputs": [
    {
     "data": {
      "text/html": [
       "<div>\n",
       "<style scoped>\n",
       "    .dataframe tbody tr th:only-of-type {\n",
       "        vertical-align: middle;\n",
       "    }\n",
       "\n",
       "    .dataframe tbody tr th {\n",
       "        vertical-align: top;\n",
       "    }\n",
       "\n",
       "    .dataframe thead th {\n",
       "        text-align: right;\n",
       "    }\n",
       "</style>\n",
       "<table border=\"1\" class=\"dataframe\">\n",
       "  <thead>\n",
       "    <tr style=\"text-align: right;\">\n",
       "      <th>Gender</th>\n",
       "      <th>Man</th>\n",
       "      <th>Woman</th>\n",
       "    </tr>\n",
       "    <tr>\n",
       "      <th>Age</th>\n",
       "      <th></th>\n",
       "      <th></th>\n",
       "    </tr>\n",
       "  </thead>\n",
       "  <tbody>\n",
       "    <tr>\n",
       "      <th>18-24 years old</th>\n",
       "      <td>29.5</td>\n",
       "      <td>23.6</td>\n",
       "    </tr>\n",
       "    <tr>\n",
       "      <th>25-34 years old</th>\n",
       "      <td>27.2</td>\n",
       "      <td>22.3</td>\n",
       "    </tr>\n",
       "    <tr>\n",
       "      <th>35-44 years old</th>\n",
       "      <td>24.4</td>\n",
       "      <td>19.9</td>\n",
       "    </tr>\n",
       "    <tr>\n",
       "      <th>45-54 years old</th>\n",
       "      <td>20.0</td>\n",
       "      <td>18.3</td>\n",
       "    </tr>\n",
       "    <tr>\n",
       "      <th>55-64 years old</th>\n",
       "      <td>15.3</td>\n",
       "      <td>12.5</td>\n",
       "    </tr>\n",
       "  </tbody>\n",
       "</table>\n",
       "</div>"
      ],
      "text/plain": [
       "Gender            Man  Woman\n",
       "Age                         \n",
       "18-24 years old  29.5   23.6\n",
       "25-34 years old  27.2   22.3\n",
       "35-44 years old  24.4   19.9\n",
       "45-54 years old  20.0   18.3\n",
       "55-64 years old  15.3   12.5"
      ]
     },
     "execution_count": 19,
     "metadata": {},
     "output_type": "execute_result"
    }
   ],
   "source": [
    "(df1.pivot_table(index=\"Age\",\n",
    "                 columns=\"Gender\",\n",
    "                 values=\"Skills\")\n",
    " .round(1)\n",
    ")"
   ]
  },
  {
   "cell_type": "code",
   "execution_count": 20,
   "id": "2d2def38",
   "metadata": {},
   "outputs": [
    {
     "data": {
      "text/plain": [
       "array([nan, '7', '17', '4', '6', '16', '12', '15', '40', '9', '26', '14',\n",
       "       '39', '20', '8', '19', '5', '3', 'Less than 1 year', '10', '22',\n",
       "       '2', '1', '34', '21', '13', '25', '24', '30', '31', '18', '38',\n",
       "       '27', '41', '42', '35', '23', '28', '11', '37', '44', '43', '36',\n",
       "       '33', '45', '29', '46', '32', '47', '50', '49', '48',\n",
       "       'More than 50 years'], dtype=object)"
      ]
     },
     "execution_count": 20,
     "metadata": {},
     "output_type": "execute_result"
    }
   ],
   "source": [
    "df1[\"YearsCode\"].unique()"
   ]
  },
  {
   "cell_type": "code",
   "execution_count": 21,
   "id": "5ccad485",
   "metadata": {},
   "outputs": [
    {
     "data": {
      "text/plain": [
       "array([nan, '10', '4', '5', '6', '2', '30', '9', '18', '21', '1', '16',\n",
       "       'Less than 1 year', '15', '3', '7', '12', '8', '17', '14', '26',\n",
       "       '25', '20', '34', '11', '24', '22', '13', '31', '23', '41', '27',\n",
       "       '28', '19', '35', '33', '37', '29', '32', '43', '40', '38', '42',\n",
       "       '45', '36', '44', 'More than 50 years', '47', '39', '46', '48',\n",
       "       '50', '49'], dtype=object)"
      ]
     },
     "execution_count": 21,
     "metadata": {},
     "output_type": "execute_result"
    }
   ],
   "source": [
    "df1[\"YearsCodePro\"].unique()"
   ]
  },
  {
   "cell_type": "code",
   "execution_count": 22,
   "id": "e9c3fdf6",
   "metadata": {},
   "outputs": [
    {
     "data": {
      "text/plain": [
       "count    136566.000000\n",
       "mean         27.839013\n",
       "std          14.224833\n",
       "min           0.000000\n",
       "25%          17.197225\n",
       "50%          26.386294\n",
       "75%          36.791759\n",
       "max          68.931826\n",
       "Name: Score, dtype: float64"
      ]
     },
     "execution_count": 22,
     "metadata": {},
     "output_type": "execute_result"
    }
   ],
   "source": [
    "# try to compute a Score value from Skills and YearsCode\n",
    "# Score ceiled to 50\n",
    "# Years ceiled to 50\n",
    "# Score = Skills + log(YearsCodePro or YearsCode/2)\n",
    "\n",
    "df1[\"YearsCode\"] = df1[\"YearsCode\"].mask(df1[\"YearsCode\"]==\"Less than 1 year\", 0)\n",
    "df1[\"YearsCode\"] = df1[\"YearsCode\"].mask(df1[\"YearsCode\"]==\"More than 50 years\", 50)\n",
    "df1[\"YearsCode\"] = df1[\"YearsCode\"].fillna(0).astype(int)\n",
    "df1[\"YearsCodePro\"] = df1[\"YearsCodePro\"].mask(df1[\"YearsCodePro\"]==\"Less than 1 year\", 0)\n",
    "df1[\"YearsCodePro\"] = df1[\"YearsCodePro\"].mask(df1[\"YearsCodePro\"]==\"More than 50 years\", 50)\n",
    "df1[\"Score\"] = df1[\"Skills\"].clip(None, 65) + np.log(1. + df1[\"YearsCodePro\"].astype(float).fillna(df1[\"YearsCode\"].div(2)))\n",
    "df1[\"Score\"].describe()"
   ]
  },
  {
   "cell_type": "code",
   "execution_count": 23,
   "id": "818313da",
   "metadata": {},
   "outputs": [
    {
     "data": {
      "image/png": "[encoded data removed]",
      "text/plain": [
       "<Figure size 432x288 with 1 Axes>"
      ]
     },
     "metadata": {
      "needs_background": "light"
     },
     "output_type": "display_data"
    }
   ],
   "source": [
    "sns.stripplot(data=df1, x=\"Gender\", y=\"Score\");"
   ]
  },
  {
   "cell_type": "code",
   "execution_count": 24,
   "id": "75523e72",
   "metadata": {},
   "outputs": [
    {
     "data": {
      "image/png": "[encoded data removed]",
      "text/plain": [
       "<Figure size 432x288 with 1 Axes>"
      ]
     },
     "metadata": {
      "needs_background": "light"
     },
     "output_type": "display_data"
    }
   ],
   "source": [
    "sns.stripplot(data=df1, x=\"Age\", y=\"Score\");"
   ]
  },
  {
   "cell_type": "code",
   "execution_count": 25,
   "id": "4624e498",
   "metadata": {},
   "outputs": [],
   "source": [
    "# as we have ~130K men and 7K women\n",
    "# select a subset of men (n x women) stratified by Gender and Age using train_test_split\n",
    "\n",
    "n = 2  # twice as men\n",
    "\n",
    "from sklearn.model_selection import train_test_split\n",
    "\n",
    "_, df2 = train_test_split(df1.loc[df1[\"Gender\"]==\"Man\"],\n",
    "                          test_size=7106*n,\n",
    "                          stratify=df1.loc[df1[\"Gender\"]==\"Man\", \"Age\"],\n",
    "                          random_state=0)\n",
    "\n",
    "df2 = (pd\n",
    "       .concat([df2, df1.loc[df1[\"Gender\"]==\"Woman\"]])\n",
    "       .sort_values(by=\"Score\", ascending=False)\n",
    "       .reset_index(drop=True)\n",
    "      )"
   ]
  },
  {
   "cell_type": "code",
   "execution_count": 26,
   "id": "0f623aea",
   "metadata": {},
   "outputs": [
    {
     "data": {
      "text/plain": [
       "Man      14212\n",
       "Woman     7106\n",
       "Name: Gender, dtype: int64"
      ]
     },
     "execution_count": 26,
     "metadata": {},
     "output_type": "execute_result"
    }
   ],
   "source": [
    "df2[\"Gender\"].value_counts()"
   ]
  },
  {
   "cell_type": "code",
   "execution_count": 27,
   "id": "7fe70007",
   "metadata": {},
   "outputs": [
    {
     "data": {
      "text/html": [
       "<div>\n",
       "<style scoped>\n",
       "    .dataframe tbody tr th:only-of-type {\n",
       "        vertical-align: middle;\n",
       "    }\n",
       "\n",
       "    .dataframe tbody tr th {\n",
       "        vertical-align: top;\n",
       "    }\n",
       "\n",
       "    .dataframe thead th {\n",
       "        text-align: right;\n",
       "    }\n",
       "</style>\n",
       "<table border=\"1\" class=\"dataframe\">\n",
       "  <thead>\n",
       "    <tr style=\"text-align: right;\">\n",
       "      <th>Gender</th>\n",
       "      <th>Man</th>\n",
       "      <th>Woman</th>\n",
       "    </tr>\n",
       "    <tr>\n",
       "      <th>Age</th>\n",
       "      <th></th>\n",
       "      <th></th>\n",
       "    </tr>\n",
       "  </thead>\n",
       "  <tbody>\n",
       "    <tr>\n",
       "      <th>18-24 years old</th>\n",
       "      <td>30.5</td>\n",
       "      <td>24.4</td>\n",
       "    </tr>\n",
       "    <tr>\n",
       "      <th>25-34 years old</th>\n",
       "      <td>28.8</td>\n",
       "      <td>23.8</td>\n",
       "    </tr>\n",
       "    <tr>\n",
       "      <th>35-44 years old</th>\n",
       "      <td>26.7</td>\n",
       "      <td>21.7</td>\n",
       "    </tr>\n",
       "    <tr>\n",
       "      <th>45-54 years old</th>\n",
       "      <td>23.0</td>\n",
       "      <td>20.3</td>\n",
       "    </tr>\n",
       "    <tr>\n",
       "      <th>55-64 years old</th>\n",
       "      <td>18.2</td>\n",
       "      <td>15.3</td>\n",
       "    </tr>\n",
       "  </tbody>\n",
       "</table>\n",
       "</div>"
      ],
      "text/plain": [
       "Gender            Man  Woman\n",
       "Age                         \n",
       "18-24 years old  30.5   24.4\n",
       "25-34 years old  28.8   23.8\n",
       "35-44 years old  26.7   21.7\n",
       "45-54 years old  23.0   20.3\n",
       "55-64 years old  18.2   15.3"
      ]
     },
     "execution_count": 27,
     "metadata": {},
     "output_type": "execute_result"
    }
   ],
   "source": [
    "df2.pivot_table(index=\"Age\",\n",
    "                columns=\"Gender\",\n",
    "                values=\"Score\"\n",
    "               ).round(1)"
   ]
  },
  {
   "cell_type": "code",
   "execution_count": 28,
   "id": "4578adeb",
   "metadata": {},
   "outputs": [
    {
     "data": {
      "image/png": "[encoded data removed]",
      "text/plain": [
       "<Figure size 432x288 with 1 Axes>"
      ]
     },
     "metadata": {
      "needs_background": "light"
     },
     "output_type": "display_data"
    }
   ],
   "source": [
    "(df2.pivot_table(index=\"Score\",\n",
    "                 columns=\"Gender\",\n",
    "                 values=\"ResponseId\",\n",
    "                 aggfunc=\"count\",\n",
    "                 fill_value=0)\n",
    " .cumsum()\n",
    " .plot\n",
    " .line()\n",
    ");"
   ]
  },
  {
   "cell_type": "code",
   "execution_count": 29,
   "id": "fad18655",
   "metadata": {},
   "outputs": [],
   "source": [
    "# simple selection algorithm: compute Score and take the m best\n",
    "m = 500"
   ]
  },
  {
   "cell_type": "code",
   "execution_count": 30,
   "id": "836557ab",
   "metadata": {},
   "outputs": [
    {
     "data": {
      "text/plain": [
       "Man      391\n",
       "Woman    110\n",
       "Name: Gender, dtype: int64"
      ]
     },
     "execution_count": 30,
     "metadata": {},
     "output_type": "execute_result"
    }
   ],
   "source": [
    "# disparity of men vs women \n",
    "df2.loc[:m, \"Gender\"].value_counts()"
   ]
  },
  {
   "cell_type": "code",
   "execution_count": 31,
   "id": "3ddc5fae",
   "metadata": {},
   "outputs": [
    {
     "data": {
      "text/plain": [
       "18-24 years old    200\n",
       "25-34 years old    194\n",
       "35-44 years old     78\n",
       "45-54 years old     26\n",
       "55-64 years old      3\n",
       "Name: Age, dtype: int64"
      ]
     },
     "execution_count": 31,
     "metadata": {},
     "output_type": "execute_result"
    }
   ],
   "source": [
    "# disparity of yound vs old \n",
    "df2.loc[:m, \"Age\"].value_counts().sort_index()"
   ]
  },
  {
   "cell_type": "code",
   "execution_count": 32,
   "id": "cad3eed5",
   "metadata": {},
   "outputs": [],
   "source": [
    "# todo\n",
    "# apply other ML without Gender and Age\n",
    "# compute fairness KPI"
   ]
  }
 ],
 "metadata": {
  "kernelspec": {
   "display_name": "Python 3 (ipykernel)",
   "language": "python",
   "name": "python3"
  },
  "language_info": {
   "codemirror_mode": {
    "name": "ipython",
    "version": 3
   },
   "file_extension": ".py",
   "mimetype": "text/x-python",
   "name": "python",
   "nbconvert_exporter": "python",
   "pygments_lexer": "ipython3",
   "version": "3.9.13"
  }
 },
 "nbformat": 4,
 "nbformat_minor": 5
}
