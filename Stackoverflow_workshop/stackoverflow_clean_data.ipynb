{
 "cells": [
  {
   "cell_type": "code",
   "execution_count": null,
   "id": "dd68333f",
   "metadata": {},
   "outputs": [],
   "source": [
    "# Import packages\n",
    "import numpy as np\n",
    "import pandas as pd\n",
    "import matplotlib.pyplot as plt\n",
    "# import seaborn as sns"
   ]
  },
  {
   "cell_type": "code",
   "execution_count": null,
   "id": "88eb3f86",
   "metadata": {},
   "outputs": [],
   "source": [
    "# Load data, 2 years\n",
    "df1 = pd.read_csv(\"survey_results_public_2021.csv\")\n",
    "print(df1.shape)\n",
    "df2 = pd.read_csv(\"survey_results_public_2022.csv\")\n",
    "print(df2.shape)\n",
    "\n",
    "df = pd.concat([df1, df2], ignore_index=True)\n",
    "print(f\"{df.shape}\")\n",
    "df.head(3)"
   ]
  },
  {
   "cell_type": "code",
   "execution_count": null,
   "id": "293a35c9",
   "metadata": {},
   "outputs": [],
   "source": [
    "# Select columns \n",
    "keep_col = [#'ResponseId',\n",
    "\n",
    " 'LanguageHaveWorkedWith',\n",
    " 'ToolsTechHaveWorkedWith',\n",
    " #'MiscTechHaveWorkedWith',\n",
    " 'WebframeHaveWorkedWith',\n",
    " 'PlatformHaveWorkedWith',\n",
    " 'DatabaseHaveWorkedWith',\n",
    " #'NEWCollabToolsHaveWorkedWith',\n",
    "            \n",
    " #'NEWCollabToolsWantToWorkWith',\n",
    " #'DatabaseWantToWorkWith',\n",
    " #'WebframeWantToWorkWith',\n",
    " #'ToolsTechWantToWorkWith',\n",
    " #'PlatformWantToWorkWith',\n",
    " #'MiscTechWantToWorkWith',\n",
    " #'LanguageWantToWorkWith',\n",
    " \n",
    " 'Age',\n",
    " #'Accessibility',\n",
    " 'EdLevel',\n",
    " #'Employment',\n",
    " #'Ethnicity',\n",
    " #'Gender',\n",
    " 'MentalHealth',\n",
    "\n",
    " 'MainBranch',\n",
    " #'DevType',\n",
    " 'YearsCode',\n",
    " 'YearsCodePro',\n",
    "\n",
    " #'Currency',\n",
    " #'Country',\n",
    " 'ConvertedCompYearly',\n",
    " #'CompTotal',\n",
    " #'CompFreq',\n",
    " #'Sexuality',\n",
    " #'OrgSize'\n",
    "]\n"
   ]
  },
  {
   "cell_type": "code",
   "execution_count": null,
   "id": "38d97321",
   "metadata": {},
   "outputs": [],
   "source": [
    "# Clean data : drop columns, NaNs, Concat (& drop) HaveWorkedWith\n",
    "\n",
    "df = df[keep_col]\n",
    "print(df.shape)\n",
    "df = df.dropna(subset=[col for col in df.columns if not col.endswith(\"HaveWorkedWith\")])\n",
    "print(df.shape)\n"
   ]
  },
  {
   "cell_type": "code",
   "execution_count": null,
   "id": "3ac3ef06-6873-4c0b-a82f-0d8e315a823f",
   "metadata": {},
   "outputs": [],
   "source": [
    "df.head(3)"
   ]
  },
  {
   "cell_type": "code",
   "execution_count": null,
   "id": "a3b5b340",
   "metadata": {},
   "outputs": [],
   "source": [
    "# Clean data : Reduce distincs responses\n",
    "\n",
    "def clean_gender(string):\n",
    "    if string.split(';')[0] == 'Man':\n",
    "        return 'Man'\n",
    "    elif 'Woman' in string:\n",
    "        return 'Woman'\n",
    "    else:\n",
    "        return 'Other'\n",
    "    \n",
    "def clean_accessibility(string):\n",
    "    if 'None of the above' in string:\n",
    "        return 'No'\n",
    "    elif 'Prefer not to say' in string:\n",
    "        return 'No'\n",
    "    else:\n",
    "        return 'Yes'\n",
    "    \n",
    "def clean_mentalhealth(string):\n",
    "    if 'None of the above' in string:\n",
    "        return 'No'\n",
    "    elif 'Prefer not to say' in string:\n",
    "        return 'No'\n",
    "    else:\n",
    "        return 'Yes'\n",
    "    \n",
    "def clean_edlevel(string):\n",
    "    \"\"\"\n",
    "     {'Associate degree (A.A., A.S., etc.)',\n",
    "     'Bachelor’s degree (B.A., B.S., B.Eng., etc.)',\n",
    "     'Master’s degree (M.A., M.S., M.Eng., MBA, etc.)',\n",
    "     'Other doctoral degree (Ph.D., Ed.D., etc.)',\n",
    "     'Primary/elementary school',\n",
    "     'Professional degree (JD, MD, etc.)',\n",
    "     'Secondary school (e.g. American high school, German Realschule or Gymnasium, etc.)',\n",
    "     'Some college/university study without earning a degree',\n",
    "     'Something else'}\n",
    "     \"\"\"\n",
    "    if 'Associate degree (A.A., A.S., etc.)' in string:\n",
    "        return 'Undergraduate'\n",
    "    elif 'Bachelor’s degree (B.A., B.S., B.Eng., etc.)' in string:\n",
    "        return 'Undergraduate'\n",
    "    elif 'Master’s degree (M.A., M.S., M.Eng., MBA, etc.)' in string:\n",
    "        return 'Master'\n",
    "    elif 'Other doctoral degree (Ph.D., Ed.D., etc.)' in string:\n",
    "        return 'PhD'\n",
    "    else:\n",
    "        return 'Other'\n",
    "\n",
    "    \n",
    "def clean_mainbranch(string):\n",
    "    \"\"\"\n",
    "    {'I am a developer by profession',\n",
    "     'I am a student who is learning to code',\n",
    "     'I am learning to code',\n",
    "     'I am not primarily a developer, but I write code sometimes as part of my work',\n",
    "     'I code primarily as a hobby',\n",
    "     'I used to be a developer by profession, but no longer am',\n",
    "     'None of these'}\n",
    "    \"\"\"\n",
    "    if 'I am a developer by profession' in string:\n",
    "        return 'Dev'\n",
    "    else:\n",
    "        return 'NotDev'\n",
    "\n",
    "    \n",
    "def clean_employ(string):\n",
    "    \"\"\"\n",
    "    {'Employed full-time',\n",
    "     'Employed part-time',\n",
    "     'Employed, full-time',\n",
    "     'Employed, full-time;Employed, part-time',\n",
    "     'Employed, full-time;Independent contractor, freelancer, or self-employed',\n",
    "     'Employed, full-time;Independent contractor, freelancer, or self-employed;Employed, part-time',\n",
    "     'Employed, full-time;Independent contractor, freelancer, or self-employed;Retired',\n",
    "     'Employed, full-time;Retired',\n",
    "     'Employed, part-time',\n",
    "     'Employed, part-time;Retired',\n",
    "     'I prefer not to say',\n",
    "     'Independent contractor, freelancer, or self-employed',\n",
    "     'Independent contractor, freelancer, or self-employed;Employed, part-time',\n",
    "     'Independent contractor, freelancer, or self-employed;Retired',\n",
    "     'Retired'}\n",
    "    \"\"\"\n",
    "    if 'full-time' in string:\n",
    "        return 1\n",
    "    else:\n",
    "        return 0\n",
    "    \n",
    "age_mapping = {'35-44 years old': '>35', \n",
    "               '25-34 years old': '<35',\n",
    "               '55-64 years old': '>35', \n",
    "               '45-54 years old': '>35', \n",
    "               '65 years or older': '>35',\n",
    "               'Under 18 years old': '<35',\n",
    "               '18-24 years old': '<35'}"
   ]
  },
  {
   "cell_type": "code",
   "execution_count": null,
   "id": "b7654642-c644-4d00-9e15-a6ad417d3456",
   "metadata": {},
   "outputs": [],
   "source": [
    "# Clean columns kept\n",
    "\n",
    "# df['Gender'] = df['Gender'].apply(clean_gender)\n",
    "# df['Accessibility'] = df['Accessibility'].apply(clean_accessibility)\n",
    "df['EdLevel'] = df['EdLevel'].apply(clean_edlevel)\n",
    "df['MainBranch'] = df['MainBranch'].apply(clean_mainbranch)\n",
    "# df['Employment'] = df['Employment'].apply(clean_employ)\n",
    "df['MentalHealth'] = df['MentalHealth'].apply(clean_mentalhealth)\n",
    "\n",
    "# Drop rows where age is not filled in and change category names\n",
    "df = df.loc[df['Age'] != 'Prefer not to say']\n",
    "df['Age'] = df['Age'].replace(age_mapping)\n",
    "\n",
    "#df['Ethnicity'] = df['Ethnicity'].apply(lambda x: clean_ethnicity(x))\n",
    "\n",
    "df = df.reset_index(drop=True)"
   ]
  },
  {
   "cell_type": "code",
   "execution_count": null,
   "id": "9906ee43",
   "metadata": {},
   "outputs": [],
   "source": [
    "# clean HaveWorkedWith\n",
    "\n",
    "cols = [col for col in df.columns if col.endswith(\"HaveWorkedWith\")]\n",
    "df['HaveWorkedWith'] = df[cols].apply(lambda row: ';'.join(row.values.astype(str)), axis=1)\n",
    "df['HaveWorkedWith'] = df['HaveWorkedWith'].str.replace(';nan', '')\n",
    "df['HaveWorkedWith'] = df['HaveWorkedWith'].str.replace('nan;', '')\n",
    "df['HaveWorkedWith'] = df['HaveWorkedWith'].str.replace('nan', '')\n",
    "df = df.drop(columns=cols)\n",
    "print(df.shape)"
   ]
  },
  {
   "cell_type": "code",
   "execution_count": null,
   "id": "49658d30-43e7-4dc7-9268-10e76543a585",
   "metadata": {},
   "outputs": [],
   "source": [
    "# Create a custom Employment target variable, remove the yearly compensation otherwise classificaton task\n",
    "# will be too easy.\n",
    "\n",
    "print(df['ConvertedCompYearly'].describe())\n",
    "df['custom_employment'] = (df['ConvertedCompYearly'] > 40_000).astype(int)\n",
    "df = df.drop(['ConvertedCompYearly'], axis=1)"
   ]
  },
  {
   "cell_type": "code",
   "execution_count": null,
   "id": "f778f513",
   "metadata": {},
   "outputs": [],
   "source": [
    "df['custom_employment'].value_counts()"
   ]
  },
  {
   "cell_type": "code",
   "execution_count": null,
   "id": "13586772",
   "metadata": {},
   "outputs": [],
   "source": [
    "# all skills\n",
    "skills = set()\n",
    "df[\"HaveWorkedWith\"].str.split(\";\").apply(skills.update)\n",
    "print(*sorted(skills))"
   ]
  },
  {
   "cell_type": "code",
   "execution_count": null,
   "id": "fa87cf58",
   "metadata": {},
   "outputs": [],
   "source": [
    "# Create a custom employment target variable, using the total number of skills\n",
    "df['custom_employment_skills'] = df[\"HaveWorkedWith\"].apply(lambda x: 0 if x== \"\" else x.count(\";\") + 1)\n",
    "print(df['custom_employment_skills'].describe())\n",
    "df['custom_employment_skills'] = (df['custom_employment_skills'] >= 15).astype(int)"
   ]
  },
  {
   "cell_type": "code",
   "execution_count": null,
   "id": "9f1c7cbf",
   "metadata": {},
   "outputs": [],
   "source": [
    "df['custom_employment_skills'].value_counts()"
   ]
  },
  {
   "cell_type": "code",
   "execution_count": null,
   "id": "abc9a493",
   "metadata": {},
   "outputs": [],
   "source": [
    "# skilled mostly mentioned by Age == <35 and MentalHealth == No\n",
    "df_skills = df['HaveWorkedWith'].str.get_dummies(\";\")\n",
    "selected_skills= df_skills.loc[(df[\"Age\"]==\"<35\")&(df[\"MentalHealth\"]==\"No\")].sum().nlargest(10)\n",
    "selected_skills"
   ]
  },
  {
   "cell_type": "code",
   "execution_count": null,
   "id": "98a803f5",
   "metadata": {},
   "outputs": [],
   "source": [
    "# Create a custom employment target variable, using the total number of selected skills\n",
    "df['custom_employment_selected_skills'] = df_skills[selected_skills.index].sum(axis=1)\n",
    "print(df['custom_employment_selected_skills'].describe())\n",
    "df['custom_employment_selected_skills'] = (df['custom_employment_selected_skills'] >= 6).astype(int)\n",
    "df = df.drop(['HaveWorkedWith'], axis=1)"
   ]
  },
  {
   "cell_type": "code",
   "execution_count": null,
   "id": "3ebc808b",
   "metadata": {},
   "outputs": [],
   "source": [
    "df['custom_employment_selected_skills'].value_counts()"
   ]
  },
  {
   "cell_type": "code",
   "execution_count": null,
   "id": "c65d8b3b-1b34-4d19-9f24-b11d76f22fb3",
   "metadata": {},
   "outputs": [],
   "source": [
    "df.sample(3).T"
   ]
  },
  {
   "cell_type": "code",
   "execution_count": null,
   "id": "e38362e0-3749-4555-b3a8-6da932e11858",
   "metadata": {},
   "outputs": [],
   "source": [
    "print(df.groupby(['custom_employment']).count())"
   ]
  },
  {
   "cell_type": "code",
   "execution_count": null,
   "id": "ffd9a9ad",
   "metadata": {},
   "outputs": [],
   "source": [
    "print(df.groupby(['custom_employment_skills']).count())"
   ]
  },
  {
   "cell_type": "code",
   "execution_count": null,
   "id": "9c1aab84",
   "metadata": {},
   "outputs": [],
   "source": [
    "print(df.groupby(['custom_employment_selected_skills']).count())"
   ]
  },
  {
   "cell_type": "code",
   "execution_count": null,
   "id": "b3d4e27d-c731-4f51-b16e-935d941d120d",
   "metadata": {},
   "outputs": [],
   "source": [
    "df.to_csv('stackoverflow_clean.csv')"
   ]
  },
  {
   "cell_type": "code",
   "execution_count": null,
   "id": "aea14fa9-cbb7-4052-8341-c4b04b36a382",
   "metadata": {},
   "outputs": [],
   "source": []
  }
 ],
 "metadata": {
  "kernelspec": {
   "display_name": "Python 3 (ipykernel)",
   "language": "python",
   "name": "python3"
  },
  "language_info": {
   "codemirror_mode": {
    "name": "ipython",
    "version": 3
   },
   "file_extension": ".py",
   "mimetype": "text/x-python",
   "name": "python",
   "nbconvert_exporter": "python",
   "pygments_lexer": "ipython3",
   "version": "3.9.15"
  }
 },
 "nbformat": 4,
 "nbformat_minor": 5
}
